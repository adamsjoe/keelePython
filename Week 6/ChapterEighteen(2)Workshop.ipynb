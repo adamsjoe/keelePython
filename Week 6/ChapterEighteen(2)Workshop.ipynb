{
 "cells": [
  {
   "cell_type": "markdown",
   "metadata": {},
   "source": [
    "# Chapter 18 (2) Workshop and Exercises\n",
    "\n",
    "## Multiple Inheritance In Python\n",
    "\n",
    "When a child class inherits from more than one parent class, it is known as Multiple Inheritance. The child inherits the attributes and methods of both parents. \n",
    "\n",
    "In the declaration of the Child Class, both parents are listed in brackets thus:\n",
    "\n",
    "class Mother(object):\n",
    "    pass\n",
    "class Father(object):\n",
    "    pass\n",
    "class Child(Mother, Father)\n",
    "\n",
    "Lets look at at example with a bit more substance:\n"
   ]
  },
  {
   "cell_type": "code",
   "execution_count": 9,
   "metadata": {},
   "outputs": [
    {
     "name": "stdout",
     "output_type": "stream",
     "text": [
      "Name: Mike Jones, Salary: 75000, Project: Browns PLC POS\n"
     ]
    }
   ],
   "source": [
    "class TeamMember(object):                   \n",
    "    def __init__(self, name, empno): \n",
    "        self.name = name \n",
    "        self.empno = empno \n",
    "  \n",
    "class Worker(object):                 \n",
    "    def __init__(self, salary, jobtitle): \n",
    "        self.salary = salary \n",
    "        self.jobtitle = jobtitle \n",
    "  \n",
    "class TeamLeader(TeamMember, Worker):         \n",
    "    def __init__(self, name, empno, salary, jobtitle, project): \n",
    "        self.project = project \n",
    "        TeamMember.__init__(self, name, empno) \n",
    "        Worker.__init__(self, salary, jobtitle)\n",
    "        print(\"Name: {}, Salary: {}, Project: {}\".format(self.name, self.salary, self.project))\n",
    "\n",
    "leader = TeamLeader('Mike Jones', \"000231\", 75000, 'Senior Developer', \"Browns PLC POS\")\n",
    "        "
   ]
  },
  {
   "cell_type": "markdown",
   "metadata": {},
   "source": [
    "## Multiple Inheritance Problems\n",
    "\n",
    "Multiple inheritance can create potential problems. For example, if the two (or more) parents have attributes or methods with the same name, which of them is inherited by the child? These problems can be reolved but it requires a knowledge of the Method Resolution Order (MRO) mechanism within Python. This will be considered on a later module. For now, we will avoid the problem. One simple method is to ensure that these potential naming conflicts are avoided - not particularly good OO practice!\n",
    "\n",
    "More generally, we can often avoid the problem by using **composition** rather than multiple inheritance. In the case study, for example, we could consider a Library class with Branches inheriting from Library. Alternatively, the Library class could own and manage a collection of Branches (using disctionary or list of Branch objects, for example). For the purposes of this module, you should avoid multiple inheritance and rather adopt this object-composition technique. Of course, the Library/Branch relationship does not involve mutiple inheritance, but it illustrates the point. There are many practicioners who naturally favour composition over inheritance where this is a suitable choice.\n",
    "\n",
    "## Checking Inheritance\n",
    "\n",
    "Two built-in functions isinstance() and issubclass() are used in Python to check inheritance.\n",
    "\n",
    "The function isinstance() returns True if the object passed as the first argument is an instance of the class passed as the second argument or other classes derived from it. Each and every class in Python inherits from the base class **object**. This is illustrated in the following example:\n",
    "\n",
    "\n",
    "\n"
   ]
  },
  {
   "cell_type": "code",
   "execution_count": 10,
   "metadata": {},
   "outputs": [
    {
     "name": "stdout",
     "output_type": "stream",
     "text": [
      "True\n",
      "True\n",
      "True\n",
      "True\n",
      "\n",
      "False\n",
      "True\n",
      "False\n",
      "True\n",
      "\n",
      "True\n",
      "False\n",
      "False\n",
      "True\n"
     ]
    }
   ],
   "source": [
    "class TeamMember(object):                   \n",
    "    def __init__(self, name, empno): \n",
    "        self.name = name \n",
    "        self.empno = empno \n",
    "  \n",
    "class Worker(object):                 \n",
    "    def __init__(self, salary, jobtitle): \n",
    "        self.salary = salary \n",
    "        self.jobtitle = jobtitle \n",
    "  \n",
    "class TeamLeader(TeamMember, Worker):         \n",
    "    def __init__(self, name, empno, salary, jobtitle, project): \n",
    "        self.project = project \n",
    "        TeamMember.__init__(self, name, empno) \n",
    "        Worker.__init__(self, salary, jobtitle)\n",
    "\n",
    "\n",
    "leader = TeamLeader('Mike Jones', \"000231\", 75000, 'Senior Developer', \"Browns PLC POS\")\n",
    "worker = Worker(40000, \"Barry Jenkins\")\n",
    "team_member = TeamMember(\"Barry Jenkins\", \"000187\")\n",
    "print(isinstance(leader,TeamMember))\n",
    "print(isinstance(leader,Worker))\n",
    "print(isinstance(leader,TeamLeader))\n",
    "print(isinstance(leader,object))\n",
    "print()\n",
    "print(isinstance(worker,TeamMember))\n",
    "print(isinstance(worker,Worker))\n",
    "print(isinstance(worker,TeamLeader))   \n",
    "print(isinstance(worker,object))\n",
    "print()\n",
    "print(isinstance(team_member,TeamMember))\n",
    "print(isinstance(team_member,Worker))\n",
    "print(isinstance(team_member,TeamLeader))\n",
    "print(isinstance(team_member,object))"
   ]
  },
  {
   "cell_type": "markdown",
   "metadata": {},
   "source": [
    "Similarly, issubclass() can be used to check for class inheritance. It returns True if the **class** passed as the first argument is a sub-class of the **class** passed as the second argument.\n",
    "\n",
    "## Exercise 18.2.1\n",
    "\n",
    "Modify the following example code to check the following:\n",
    "\n",
    "1. Is an object of C an instance of A?\n",
    "2. Is C a sub-class of A?\n",
    "3. Is an instance of A an instance of B or C ?\n"
   ]
  },
  {
   "cell_type": "code",
   "execution_count": 11,
   "metadata": {},
   "outputs": [],
   "source": [
    "# Exercise 18.2.1\n",
    "# Python Sub-class check\n",
    "  \n",
    "class A(object): \n",
    "    pass   # Empty Class \n",
    "  \n",
    "class B(A): \n",
    "    pass   # Empty Class \n",
    "\n",
    "class C(B): \n",
    "    pass   # Empty Class \n",
    "\n"
   ]
  },
  {
   "cell_type": "code",
   "execution_count": null,
   "metadata": {},
   "outputs": [],
   "source": []
  }
 ],
 "metadata": {
  "kernelspec": {
   "display_name": "Python 3",
   "language": "python",
   "name": "python3"
  },
  "language_info": {
   "codemirror_mode": {
    "name": "ipython",
    "version": 3
   },
   "file_extension": ".py",
   "mimetype": "text/x-python",
   "name": "python",
   "nbconvert_exporter": "python",
   "pygments_lexer": "ipython3",
   "version": "3.8.5"
  }
 },
 "nbformat": 4,
 "nbformat_minor": 4
}
