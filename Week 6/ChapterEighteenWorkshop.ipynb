{
 "cells": [
  {
   "cell_type": "markdown",
   "metadata": {},
   "source": [
    "# Chapter Eighteen Workshop and Exercises\n",
    "\n",
    "## Class Members vs Instance Members\n",
    "\n",
    "An instance attribute is a Python variable belonging to one, and only one, object. This variable is only accessible in the scope of the object and is defined inside the constructor function, __init__ of the class.\n",
    "\n",
    "A class attribute is a Python variable that belongs to the class rather than any particular object. It is shared between all the objects of this class and it is defined outside of the constructor function, __init__, of the class. Look at the following example:"
   ]
  },
  {
   "cell_type": "code",
   "execution_count": 1,
   "metadata": {},
   "outputs": [
    {
     "name": "stdout",
     "output_type": "stream",
     "text": [
      "I am MaryI am a student number 3 of 3\n",
      "I am SusanI am a student number 2 of 3\n",
      "I am BrianI am a student number 1 of 3\n"
     ]
    }
   ],
   "source": [
    "class Student(object):\n",
    "    no_of_students = 0\n",
    "    \n",
    "    def __init__(self,name):\n",
    "        self._name = name\n",
    "        Student.no_of_students+=1\n",
    "        self._student_no = Student.no_of_students \n",
    "    def speak(self):\n",
    "        print(\"I am \"+self._name+\"I am a student number \"+str(self._student_no)+\" of \"+str(Student.no_of_students))\n",
    "\n",
    "s1 = Student(\"Brian\")\n",
    "s2 = Student(\"Susan\")\n",
    "s3 = Student(\"Mary\")\n",
    "s3.speak()\n",
    "s2.speak()\n",
    "s1.speak()"
   ]
  },
  {
   "cell_type": "markdown",
   "metadata": {},
   "source": [
    "You can see that the class attribute, no_of_students is qualified by the name of the class, whereas instance attributes are qualified by **self**.\n",
    "\n",
    "### Class methods in Python\n",
    "\n",
    "Class methods know about their class; they can't access instance data, but they can access other class members (as opposed to instance members).\n",
    "\n",
    "Class methods so not expect **self** as an argument, but they do need an argument called **cls**. This stands for class, and like self, it is automatically passed in by Python. Class methods are created using the @classmethod decorator. Look at the following example:"
   ]
  },
  {
   "cell_type": "code",
   "execution_count": 3,
   "metadata": {},
   "outputs": [
    {
     "name": "stdout",
     "output_type": "stream",
     "text": [
      "I am Mary I am a student number 3 of 3\n",
      "I am Susan I am a student number 2 of 3\n",
      "I am Brian I am a student number 1 of 3\n",
      "There is room for 97 more students\n",
      "There is room for 97 more students\n"
     ]
    }
   ],
   "source": [
    "class Student(object):\n",
    "    LIMIT = 100\n",
    "    no_of_students = 0\n",
    "    \n",
    "    @classmethod\n",
    "    def room_available(cls):\n",
    "        \"\"\" This is a class method! \"\"\"\n",
    "        print(\"There is room for \"+str(cls.LIMIT - cls.no_of_students)+ \" more students\" )\n",
    "    \n",
    "    def __init__(self,name):\n",
    "        self._name = name\n",
    "        Student.no_of_students+=1\n",
    "        self._student_no = Student.no_of_students \n",
    "    def speak(self):\n",
    "        print(\"I am \"+self._name+\" I am a student number \"+str(self._student_no)+\" of \"+str(Student.no_of_students))\n",
    "\n",
    "        \n",
    "s1 = Student(\"Brian\")\n",
    "s2 = Student(\"Susan\")\n",
    "s3 = Student(\"Mary\")\n",
    "s3.speak()\n",
    "s2.speak()\n",
    "s1.speak() \n",
    "s3.room_available()\n",
    "Student.room_available()"
   ]
  },
  {
   "cell_type": "markdown",
   "metadata": {},
   "source": [
    "\n",
    "## Inheritance and Polymorphism\n",
    "\n",
    "It can be difficult to provide examples of Object Design and Programming that are sufficiently simple for learning purposes and at the same time sufficiently realistic as to provide an understanding of the power of the concepts involved. The Downey example seems a little contrived and limited in its application so here I present an alternative.\n",
    "\n",
    "This example is presented in Jupyter Notebook form but was developed with the Spyder IDE. You are advised to follow it using Spyder by cutting and pasting the relevant code.\n",
    "\n",
    "Drawing Shapes\n",
    "\n",
    "Imagine developing a program to draw shapes in a diagram - perhaps part of a simple computer aided design program. We might start by developing paramaterised functions to draw a circle, rectangle etc. As a designer added shapes to the drawing we could store them in a list. To produce the drawing, we would have to check on the 'type' of each shape in the list and then call the relevant function to draw it. We would have a fair amount of logic cluttering our main code, constantly have to determine what sort of shape we were dealing with. An object-oriented approach removes the need for type testing from much of the code and hence provides a form of **partitioning** that can greatly simplify the problem solving aspects of a program.\n",
    "\n",
    "The 'things' that we would like to add to our drawing are drawing primitives like circles, rectangles, triangles and so on. Each of these is a **Shape**. For the purposes of the drawing program, all shapes have a few things in common:\n",
    "- they have a location\n",
    "- they can be drawn\n",
    "- they can be moved to a new location\n",
    "- they can be moved relative to an existing location\n",
    "Depending what our required functionality might be, there could be other attributes and behaviours that all shapes could share. For example, maybe all shapes could be given a label - which could itself be a 'text-shape'. All shapes would probably be selectable, and so on. The comman behaviours and attributes are generally placed in a **base class**, a common ancestor which provides common attributes and behaviours.\n",
    "\n",
    "So, lets start by defining a base class - Shape:\n",
    "\n",
    "### 1. The Shape Class"
   ]
  },
  {
   "cell_type": "code",
   "execution_count": 5,
   "metadata": {},
   "outputs": [],
   "source": [
    "class Shape(object):\n",
    "# constructor\n",
    "    def __init__(self, x, y):\n",
    "        self.moveTo(x, y)\n",
    "        \n",
    "# accessors        \n",
    "    def getX(self):\n",
    "        return self._x\n",
    "    def getY(self):\n",
    "        return self._y\n",
    "    def setX(self, x):\n",
    "        self._x = x\n",
    "    def setY(self, y):\n",
    "        self._y = y\n",
    "\n",
    "# movement\n",
    "    def moveTo(self, x, y):\n",
    "        self.setX(x)\n",
    "        self.setY(y)\n",
    "    def moveBy(self, dx, dy):\n",
    "        self.moveTo(self.getX() + dx, self.getY() + dy)\n",
    "\n",
    "# abstract draw method\n",
    "    def draw(self):\n",
    "        pass\n",
    "    "
   ]
  },
  {
   "cell_type": "markdown",
   "metadata": {},
   "source": [
    "The constructor of the Shape Class \\_\\_init\\_\\_ accepts three arguments, self (the self-reference to the instance) and x and y used to define the 2D location. It calls the method **self.moveTo** to set the protected attributes **\\_x** and **\\_y**. Because \\_x and \\_y are *protected* we provide methods to access and modify them: setX, setY, getX, and getY. If we needed to perform some translation of coordinates, this could be achieved within these methods.\n",
    "\n",
    "The movement methods allow use to spedify a new location at which to draw an object.\n",
    "\n",
    "The draw method's block comprises the single statement **pass** which does nothing! Why? Well, a shape class has no shape and therefore cannot be drawn! We provide the method here to allow it to be overridden by draw methods defined in descendant classes. The Shape class's draw method is referred to as an **abstract method** because it is not implemented. In fact, Shape is an **abstract class**. We do not intend to create an instance of the Shape class. It is there to allow us to create instances of its descendants.\n",
    "\n",
    "\n",
    "### 2. The Rectangle Class\n",
    "\n",
    "The Rectangle class will inherit location and movement attributes and hehaviours from the Shape class. Thus it is declared as:\n",
    "```\n",
    "class Rectangle(Shape):\n",
    "```\n",
    "The name in brackets following the name of a new class is the class that it inherits from. Thus Rectangle inherits from Shape. Note that Shape was declared as\n",
    "``` \n",
    "class Shape(object):\n",
    "```\n",
    "All classes in Python should descend from the special Python base class **object**.\n",
    "\n",
    "**Rectangle** has its own constructor \\_\\_init\\_\\_. This calls the constructor of the Ancestor class - Shape.\\_\\_init\\_\\_ in order to set the new object's location. It then uses the additional parameters to set the \\_width and \\_height properties of the new Rectangle instance. Rectangle also defines accessor methods for the two new attributes: set/getHeight and set/getWidth.\n",
    "\n",
    "The draw method is provided with a statement block as we do want to draw a Rectangle! At the moment, it merely prints the name of the shape and the value of its attributes using the accessor methods."
   ]
  },
  {
   "cell_type": "code",
   "execution_count": 6,
   "metadata": {},
   "outputs": [],
   "source": [
    "class Rectangle(Shape):\n",
    "\n",
    "   # constructor\n",
    "    def __init__(self, x, y, width, height):\n",
    "        Shape.__init__(self, x, y)\n",
    "        self.setWidth(width)\n",
    "        self.setHeight(height)\n",
    "    def getWidth(self):\n",
    "        return self._width\n",
    "    def getHeight(self):\n",
    "        return self._height\n",
    "    def setWidth(self, width):\n",
    "        self._width = width\n",
    "    def setHeight(self, height):\n",
    "        self._height = height\n",
    "\n",
    "    def draw(self):\n",
    "        print(\"Rectangle at:(%d,%d), width %d, height %d\" % (self.getX(), self.getY(), self.getWidth(), self.getHeight()))\n",
    "        "
   ]
  },
  {
   "cell_type": "markdown",
   "metadata": {},
   "source": [
    "We will provide one further class **derived from** (inheriting from) Shape - the Circle class. You should be able to follow this yourself now. Circle defines its own new attribute \\_radius and suitable accessor methods.\n",
    "\n",
    "### 3. The Circle Class"
   ]
  },
  {
   "cell_type": "code",
   "execution_count": 20,
   "metadata": {},
   "outputs": [],
   "source": [
    "class Circle(Shape):\n",
    "\n",
    "   # constructor\n",
    "    def __init__(self, x, y, radius):\n",
    "        Shape.__init__(self, x, y)\n",
    "        self.setRadius(radius)\n",
    "    def getRadius(self):\n",
    "        return self._radius\n",
    "    def setRadius(self, radius):\n",
    "        self._radius = radius\n",
    "\n",
    "    def draw(self):\n",
    "        print(\"Circle at:(%d,%d), radius %d\" % (self.getX(), self.getY(), self.getRadius()))        "
   ]
  },
  {
   "cell_type": "markdown",
   "metadata": {},
   "source": [
    "### 4. Testing and Polymorphism\n",
    "\n",
    "We are now in a position to test our class hierarchy. First, let's create an instance of Rectangle and Circle and ensure that we can call their methods:\n"
   ]
  },
  {
   "cell_type": "code",
   "execution_count": 4,
   "metadata": {},
   "outputs": [
    {
     "name": "stdout",
     "output_type": "stream",
     "text": [
      "Rectangle at:(100,100), width 60, height 20\n",
      "Circle at:(150,150), radius 100\n",
      "Rectangle at:(40,40), width 60, height 20\n",
      "Circle at:(170,170), radius 100\n"
     ]
    }
   ],
   "source": [
    "r1 = Rectangle(100,100,60,20)\n",
    "c1 = Circle(150,150,100)\n",
    "r1.draw()\n",
    "c1.draw()\n",
    "r1.moveTo(40,40)\n",
    "c1.moveBy(20,20)\n",
    "r1.draw()\n",
    "c1.draw()"
   ]
  },
  {
   "cell_type": "markdown",
   "metadata": {},
   "source": [
    "Everything should be OK so far. Effectively, we have shown that instances of Rectangle and Circle can use the methods and attributes of their common ancestor, Shape. The next example should allow you to understand one of the major benefits that can come from OO Design and Programming - **polymorphism**. We have already used polymorphism in Python. By providing an \\_\\_str\\_\\_ method within a class definition, we can determine what is produced when an object is printed with the **print** function. \\_\\_str\\_\\_ is a **dunder** method that is called automatically by the **print** function if it is defined by a class. Python provides many such dunder methods, but it does not provide one for **draw**. OO Design provides us with a way to implement polymorphism through class hierarchies. In this case, we have overridden the draw() method of the Shape class in its descendants, Rectangle and Circle. In the following example, we create a list containing some rectangles and circles and ask them to **draw themselves**. Python *knows* how to call the correct version of draw for the instance type that it encounters:\n"
   ]
  },
  {
   "cell_type": "code",
   "execution_count": 5,
   "metadata": {},
   "outputs": [
    {
     "name": "stdout",
     "output_type": "stream",
     "text": [
      "Rectangle at:(50,80), width 50, height 60\n",
      "Rectangle at:(150,180), width 50, height 60\n",
      "Circle at:(60,40), radius 30\n",
      "Circle at:(160,140), radius 30\n",
      "Rectangle at:(10,10), width 30, height 60\n",
      "Rectangle at:(110,110), width 30, height 60\n"
     ]
    }
   ],
   "source": [
    "shapes = [Rectangle(50, 80, 50, 60), Circle(60, 40, 30), Rectangle(10,10,30,60)]\n",
    "for s in shapes:\n",
    "    s.draw()\n",
    "    s.moveBy(100, 100)\n",
    "    s.draw()\n",
    "       "
   ]
  },
  {
   "cell_type": "markdown",
   "metadata": {},
   "source": [
    "This approach allows us to remove a lot of complex logic from our programs. Imagine a real drawing app. A user can click to create different shapes which are added to a list representing the complete drawing. To produce the drawing we simply traverse the list calling the draw() method of each shape within it. Think of the complexities of achieving this without using the OO approach.\n",
    "\n",
    "## Exercise 18.1\n",
    "\n",
    "Add a Square class to the above program. Think of a square as a constrained rectangle having a position and a length (it does not need width and height). Ensure that you can add a square instance to a list representing a diagram and invoke its draw() method in the same manner as for the Rectangle and Circle examples."
   ]
  },
  {
   "cell_type": "code",
   "execution_count": 18,
   "metadata": {},
   "outputs": [
    {
     "name": "stdout",
     "output_type": "stream",
     "text": [
      "Rectangle at:(10,10), length 100\n"
     ]
    }
   ],
   "source": [
    "## Exercise 18.1\n",
    "class Square(Shape):\n",
    "   # constructor\n",
    "    def __init__(self, x, y, length):\n",
    "        Shape.__init__(self, x, y)\n",
    "        self.setLength(length)        \n",
    "    def getLength(self):\n",
    "        return self._length\n",
    "    def setLength(self, length):\n",
    "        self._length = length\n",
    "    \n",
    "    def draw(self):\n",
    "        print(\"Sqaure at:(%d,%d), length %d\" % (self.getX(), self.getY(), self.getLength()))\n",
    "        \n",
    "s1 = Square(10,10,100)        \n",
    "s1.draw()"
   ]
  },
  {
   "cell_type": "markdown",
   "metadata": {},
   "source": [
    "## Exercise 18.2\n",
    "\n",
    "Add an Ellipse class to the program above, considering carefully its place within the Class hierarchy. Again, ensure that you can create instances, add them to a list and invoke the draw() method in the same manner as for Rectangle and Circle. Additionally, make sure that you have not 'broken' anything!\n"
   ]
  },
  {
   "cell_type": "code",
   "execution_count": 24,
   "metadata": {},
   "outputs": [
    {
     "name": "stdout",
     "output_type": "stream",
     "text": [
      "Ellipse at:(20,20), radius 100, height 50\n"
     ]
    }
   ],
   "source": [
    "# Exercise 18.2\n",
    "class Ellipse(Shape):\n",
    "\n",
    "   # constructor\n",
    "    def __init__(self, x, y, radius, height):\n",
    "        Shape.__init__(self, x, y)\n",
    "        self.setRadius(radius)\n",
    "        self.setHeight(height)\n",
    "    def getRadius(self):\n",
    "        return self._radius\n",
    "    def getHeight(self):\n",
    "        return self._height\n",
    "    def setRadius(self, radius):\n",
    "        self._radius = radius\n",
    "    def setHeight(self, height):\n",
    "        self._height = height\n",
    "\n",
    "    def draw(self):\n",
    "        print(\"Ellipse at:(%d,%d), radius %d, height %d\" % (self.getX(), self.getY(), self.getRadius(), self.getHeight()))\n",
    "        \n",
    "e1 = Ellipse(20,20,100,50)\n",
    "e1.draw()\n"
   ]
  },
  {
   "cell_type": "markdown",
   "metadata": {},
   "source": [
    "## Multiple Inheritance and Design Patterns\n",
    "\n",
    "It is possible for a class to inherit from more than one parent - so-called multiple inheritance. The child class inherits the properties and methods of the multiple parent classes.\n",
    "\n",
    "The observer pattern is a software design pattern in which an object, called the subject, maintains a list observers and notifies them of any state changes, generally by calling one of their methods (a **notify** method typically).\n",
    "\n",
    "Most such patterns are used in event driven software. In a GUI system, for example, a state change may lead too many of the interface menus changing - they need to be informed. However, social networking examples will also be familiar to you, where people may elect to receive notifications of changes to posts or events.\n",
    "\n",
    "One way to implement a solution to this problem is to have an **Observed** class possessing a **notify** method. However, it would not be sensible for all classes to implement of have a notify method. Multiple inheritance provides a means of permitting classes to inherit the capability of being an oberved class in addition to their 'normal' ancestory. Here is an example:\n",
    "\n"
   ]
  },
  {
   "cell_type": "code",
   "execution_count": 18,
   "metadata": {
    "scrolled": true
   },
   "outputs": [
    {
     "name": "stdout",
     "output_type": "stream",
     "text": [
      "Susan\n",
      "I am Brenda\n",
      "I am Robert\n",
      "I am on the Mathematics Course.\n",
      "I am Susan\n",
      "I am on the Chemistry Course.\n",
      "Robert\n",
      "['Robert', 'Susan']\n"
     ]
    }
   ],
   "source": [
    "class Observed(object):\n",
    "    notifylist = []\n",
    "    def __init__(self, name):\n",
    "        Observed.notifylist.append(name)\n",
    "    def notify(self):\n",
    "        print(self._name)\n",
    "        \n",
    "class Person(object):\n",
    "    def __init__(self,name):\n",
    "        self._name = name\n",
    "    def speak(self):\n",
    "        print(\"I am \"+self._name)\n",
    "\n",
    "class Student(Person, Observed):\n",
    "    def __init__(self, name, course):\n",
    "        Person.__init__(self, name)\n",
    "        Observed.__init__(self, name)\n",
    "        self._course = course\n",
    "    def speak(self):\n",
    "        Person.speak(self)\n",
    "        print(\"I am on the \"+self._course+\" Course.\")\n",
    " \n",
    "s0 = Person(\"Brenda\")\n",
    "s1 = Student(\"Robert\",\"Mathematics\")\n",
    "s2 = Student(\"Susan\",\"Chemistry\")\n",
    "s2.notify()\n",
    "s0.speak()\n",
    "s1.speak()\n",
    "s2.speak()\n",
    "s1.notify()\n",
    "print(Observed.notifylist)"
   ]
  },
  {
   "cell_type": "code",
   "execution_count": null,
   "metadata": {},
   "outputs": [],
   "source": []
  }
 ],
 "metadata": {
  "kernelspec": {
   "display_name": "Python 3",
   "language": "python",
   "name": "python3"
  },
  "language_info": {
   "codemirror_mode": {
    "name": "ipython",
    "version": 3
   },
   "file_extension": ".py",
   "mimetype": "text/x-python",
   "name": "python",
   "nbconvert_exporter": "python",
   "pygments_lexer": "ipython3",
   "version": "3.8.5"
  }
 },
 "nbformat": 4,
 "nbformat_minor": 4
}
