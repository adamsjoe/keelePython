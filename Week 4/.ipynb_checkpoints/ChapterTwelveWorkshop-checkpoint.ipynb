{
 "cells": [
  {
   "cell_type": "markdown",
   "metadata": {},
   "source": [
    "# Chapter Twelve Workshop Exercises\n",
    "\n",
    "## Introduction\n",
    "\n",
    "### Sets\n",
    "\n",
    "In the Downey book Sets are not considered until the final Chapter. However, I feel that they are sufficiently important to examine them now. You have probably come across sets in mathematics. It is a collection that is neither indexed nor ordered and hence we are primarily concerned with *membership* of a set. Sets, like dictionaries use the {} brackets to represent the set. However, unlike a dictionary, sets have no values, merely keys. Sets are immutable but you can add new items using the set's add() or update() methods.\n",
    "\n",
    "In mathematics we are generally interested in the relationship between different sets. The **union** of two sets is a set containing all of the items present in the two sets. Note that you cannot (mathematically) have duplicates in a set, each item is unique. The set's `union()` method performs this function.\n",
    "\n",
    "The **difference** between two sets is a set containing items that are not in BOTH sets. A `difference()` method is provided.\n",
    "The **intersection** of two sets is the set of items that are in BOTH sets. An `intersection()` method is provided. Lets look at some simple examples which should illustrate what Sets are all about!"
   ]
  },
  {
   "cell_type": "code",
   "execution_count": 2,
   "metadata": {},
   "outputs": [
    {
     "name": "stdout",
     "output_type": "stream",
     "text": [
      "True\n",
      "False\n",
      "{'Mike', 'Phillipa', 'Tom', 'Harry', 'Brian', 'Susan', 'Bob', 'Keith'}\n",
      "{'Tom', 'Harry', 'Phillipa'}\n"
     ]
    }
   ],
   "source": [
    "# sets example\n",
    "\n",
    "tall = {\"Tom\", \"Bob\", \"Harry\", \"Susan\", \"Phillipa\", \"Mike\"}\n",
    "fast = {\"Tom\", \"Harry\", \"Phillipa\", \"Keith\", \"Brian\"}\n",
    "bilingual = {\"Harry\", \"Susan\", \"Brian\", \"Robert\"}\n",
    "\n",
    "print(\"Susan\" in tall)\n",
    "print(\"Susan\" in fast)\n",
    "tall_or_fast=tall.union(fast)\n",
    "print(tall_or_fast)\n",
    "tall_and_fast=tall.intersection(fast)\n",
    "print(tall_and_fast)\n"
   ]
  },
  {
   "cell_type": "markdown",
   "metadata": {},
   "source": [
    "## Exercise 12.1\n",
    "\n",
    "After following the above examples you should be capable of writing code that answers the following questions:\n",
    "\n",
    "1. Who is tall, fast and bilingual ?\n",
    "2. Who is bilingual, but not tall ?\n",
    "\n"
   ]
  },
  {
   "cell_type": "code",
   "execution_count": 3,
   "metadata": {},
   "outputs": [],
   "source": [
    "# Exercise 12.1\n",
    "tall = {\"Tom\", \"Bob\", \"Harry\", \"Susan\", \"Phillipa\", \"Mike\"}\n",
    "fast = {\"Tom\", \"Harry\", \"Phillipa\", \"Keith\", \"Brian\"}\n",
    "bilingual = {\"Harry\", \"Susan\", \"Brian\", \"Robert\"}\n",
    "\n",
    "tall = {\"Tom\", \"Bob\", \"Harry\", \"Susan\", \"Phillipa\", \"Mike\"}\n",
    "fast = {\"Tom\", \"Harry\", \"Phillipa\", \"Keith\", \"Brian\"}\n",
    "bilingual = {\"Harry\", \"Susan\", \"Brian\", \"Robert\"}\n",
    "\n",
    "tall_fast_biligual = bilingual.intersection(fast, tall)\n",
    "print(tall_fast_biligual, \" is tall, fast and bilingual\")\n",
    "\n",
    "bilingual_notTall = tall.difference(bilingual)\n",
    "print(bilingual_notTall)"
   ]
  },
  {
   "cell_type": "markdown",
   "metadata": {},
   "source": [
    "Note that special **set operators** can be used in place of the methods above:"
   ]
  },
  {
   "cell_type": "code",
   "execution_count": 4,
   "metadata": {},
   "outputs": [
    {
     "name": "stdout",
     "output_type": "stream",
     "text": [
      "{'Mike', 'Phillipa', 'Tom', 'Harry', 'Brian', 'Susan', 'Bob', 'Keith'}\n",
      "{'Tom', 'Harry', 'Phillipa'}\n",
      "{'Mike', 'Bob', 'Susan'}\n"
     ]
    }
   ],
   "source": [
    "tall_or_fast= tall | fast     # union\n",
    "print(tall_or_fast)\n",
    "tall_and_fast=tall & fast    # intersection\n",
    "print(tall_and_fast)\n",
    "tall_not_fast = tall - fast  # difference\n",
    "print(tall_not_fast)\n"
   ]
  },
  {
   "cell_type": "markdown",
   "metadata": {},
   "source": [
    "The Downey book occasionally uses dictionaries without values in place of sets. This is often unwise as using sets can be far more efficient. \n",
    "\n",
    "### Tuples\n",
    "\n",
    "We now move on to Tuples, the main subject of Downey's Chapter twelve. A tuple is a sequence of values. The values can be any type, and they are indexed by integers making them a lot like lists. The important difference is that tuples are immutable. We cannot modify an item in a tuple - much like strings. Tuples have some powerful features. Downey has sections on Tuple assignment and Tuple function results. Both are important. Because a Tuple is a sequence, all of the operators and methods appropriate to a sequence are available for a tuple.\n",
    "\n",
    "As you will have gathered from the text, a tuple is in essence a comma separated list of variables, although it is good practice to place them in round brackets. You can check with the following code:"
   ]
  },
  {
   "cell_type": "code",
   "execution_count": 5,
   "metadata": {},
   "outputs": [
    {
     "name": "stdout",
     "output_type": "stream",
     "text": [
      "<class 'tuple'>\n"
     ]
    }
   ],
   "source": [
    "print(type((1,2,3)))"
   ]
  },
  {
   "cell_type": "markdown",
   "metadata": {},
   "source": [
    "Elements of a tuple can be accessed using normal indexing (as for lists). Slices are also applicable. For example:"
   ]
  },
  {
   "cell_type": "code",
   "execution_count": 6,
   "metadata": {},
   "outputs": [
    {
     "name": "stdout",
     "output_type": "stream",
     "text": [
      "2\n",
      "(3, 4)\n"
     ]
    }
   ],
   "source": [
    "tup = (1,2,3,4,5)\n",
    "print(tup[1])\n",
    "print(tup[2:4])\n"
   ]
  },
  {
   "cell_type": "markdown",
   "metadata": {},
   "source": [
    "When returning a result from a function, the return statement is technically only capable of returning a single value. By returning a Tuple, we can in essence returm multiple values.\n",
    "\n",
    "## Exercise 12.2\n",
    "\n",
    "Write and demonstrate the use of a funtion **getstats** that accepts a Tuple of integer values as an argument and returns a tuple with the Maximum, Minimum and Average value of the integers in the argument. For example, the call could be:\n",
    "\n",
    "tup = getstats((33,44,55,66,77,23,43,54,65,88,12,34,23))\n"
   ]
  },
  {
   "cell_type": "code",
   "execution_count": 7,
   "metadata": {},
   "outputs": [],
   "source": [
    "# Exercise 12.2\n",
    "def getstats(t):\n",
    "    return min(t), max(t)\n",
    "\n",
    "tup = getstats((33,44,55,66,77,23,43,54,65,88,12,34,23))\n",
    "print(tup)"
   ]
  },
  {
   "cell_type": "markdown",
   "metadata": {},
   "source": [
    "### Conversion\n",
    "\n",
    "Some collection types can be converted to other collection types. With the conversion might come a change in functionality and efficiency. A tuple can be conerted to a set with the set function:"
   ]
  },
  {
   "cell_type": "code",
   "execution_count": 8,
   "metadata": {},
   "outputs": [
    {
     "name": "stdout",
     "output_type": "stream",
     "text": [
      "{33, 66, 65, 34, 43, 44, 77, 12, 23, 54, 55, 88}\n",
      "<class 'set'>\n"
     ]
    }
   ],
   "source": [
    "tup = (33,44,55,66,77,23,43,54,65,88,12,34,23)\n",
    "s = set(tup)\n",
    "print(s)\n",
    "print(type(s))"
   ]
  },
  {
   "cell_type": "markdown",
   "metadata": {},
   "source": [
    "Similarly, a set may be converted to a tuple:\n"
   ]
  },
  {
   "cell_type": "code",
   "execution_count": 9,
   "metadata": {},
   "outputs": [
    {
     "name": "stdout",
     "output_type": "stream",
     "text": [
      "(33, 66, 65, 34, 43, 44, 77, 12, 23, 54, 55, 88)\n",
      "<class 'tuple'>\n"
     ]
    }
   ],
   "source": [
    "t = tuple(s)\n",
    "print(t)\n",
    "print(type(t))"
   ]
  },
  {
   "cell_type": "markdown",
   "metadata": {},
   "source": [
    "What if we try to convert a tuple to a dictionary?"
   ]
  },
  {
   "cell_type": "code",
   "execution_count": 10,
   "metadata": {},
   "outputs": [
    {
     "ename": "TypeError",
     "evalue": "cannot convert dictionary update sequence element #0 to a sequence",
     "output_type": "error",
     "traceback": [
      "\u001b[1;31m---------------------------------------------------------------------------\u001b[0m",
      "\u001b[1;31mTypeError\u001b[0m                                 Traceback (most recent call last)",
      "\u001b[1;32m<ipython-input-10-bb2bb0134126>\u001b[0m in \u001b[0;36m<module>\u001b[1;34m\u001b[0m\n\u001b[1;32m----> 1\u001b[1;33m \u001b[0mdic\u001b[0m \u001b[1;33m=\u001b[0m \u001b[0mdict\u001b[0m\u001b[1;33m(\u001b[0m\u001b[0mt\u001b[0m\u001b[1;33m)\u001b[0m\u001b[1;33m\u001b[0m\u001b[1;33m\u001b[0m\u001b[0m\n\u001b[0m\u001b[0;32m      2\u001b[0m \u001b[0mprint\u001b[0m\u001b[1;33m(\u001b[0m\u001b[0mdic\u001b[0m\u001b[1;33m)\u001b[0m\u001b[1;33m\u001b[0m\u001b[1;33m\u001b[0m\u001b[0m\n\u001b[0;32m      3\u001b[0m \u001b[0mprint\u001b[0m\u001b[1;33m(\u001b[0m\u001b[0mtype\u001b[0m\u001b[1;33m(\u001b[0m\u001b[0mdic\u001b[0m\u001b[1;33m)\u001b[0m\u001b[1;33m)\u001b[0m\u001b[1;33m\u001b[0m\u001b[1;33m\u001b[0m\u001b[0m\n",
      "\u001b[1;31mTypeError\u001b[0m: cannot convert dictionary update sequence element #0 to a sequence"
     ]
    }
   ],
   "source": [
    "dic = dict(t)\n",
    "print(dic)\n",
    "print(type(dic))\n"
   ]
  },
  {
   "cell_type": "markdown",
   "metadata": {},
   "source": [
    "Or a set to a dictionary?\n"
   ]
  },
  {
   "cell_type": "code",
   "execution_count": null,
   "metadata": {},
   "outputs": [],
   "source": [
    "dic = dict(s)\n",
    "print(dic)\n",
    "print(type(dic))"
   ]
  },
  {
   "cell_type": "markdown",
   "metadata": {},
   "source": [
    "These problems may initially appear confusing. You need to think about what each data type is and what you can do with it. Both a tuple and a set can be conerted to a list, as shown below, but not to a dictionary."
   ]
  },
  {
   "cell_type": "code",
   "execution_count": null,
   "metadata": {},
   "outputs": [],
   "source": [
    "lst=list(s)\n",
    "print(lst)\n"
   ]
  },
  {
   "cell_type": "code",
   "execution_count": null,
   "metadata": {},
   "outputs": [],
   "source": [
    "lst=list(t)\n",
    "print(lst)"
   ]
  },
  {
   "cell_type": "markdown",
   "metadata": {},
   "source": [
    "## Summary\n",
    "\n",
    "There are a great many data types in Python and many more int the third party libraries tht you will meet later in the course. It is not possible to remember everything. When you encounter somethin new a combination of experimentation and reading the documentation is generally what is required. So, lets pose a problem: \n",
    "\n",
    "## Exercise 12.3\n",
    "\n",
    "Lets take the 'tall' set defined earlier and convert it to a dictionary in which the keys are the set values and the dictionary values are initially set to 0 but will later hold the height of the individual concerned. Try to find an effient way of achieving this."
   ]
  },
  {
   "cell_type": "code",
   "execution_count": null,
   "metadata": {},
   "outputs": [],
   "source": [
    "# Exercise 12.3\n",
    "\n"
   ]
  }
 ],
 "metadata": {
  "kernelspec": {
   "display_name": "Python 3",
   "language": "python",
   "name": "python3"
  },
  "language_info": {
   "codemirror_mode": {
    "name": "ipython",
    "version": 3
   },
   "file_extension": ".py",
   "mimetype": "text/x-python",
   "name": "python",
   "nbconvert_exporter": "python",
   "pygments_lexer": "ipython3",
   "version": "3.8.5"
  }
 },
 "nbformat": 4,
 "nbformat_minor": 4
}
