{
 "cells": [
  {
   "cell_type": "markdown",
   "metadata": {},
   "source": [
    "# Chapter Fourteen Workshop and Exercises\n",
    "## Exercise 14.1\n",
    "\n",
    "The Downey text provides the following function that recursively lists files in the directory passed as a string argument. Note that it thus lists the contents of all subdirectories. Try the code and ensure that you understand it."
   ]
  },
  {
   "cell_type": "code",
   "execution_count": 7,
   "metadata": {},
   "outputs": [
    {
     "name": "stdout",
     "output_type": "stream",
     "text": [
      "C:\\Users\\admin\\JNotebooks\n",
      "C:\\Users\\admin\\JNotebooks\\.ipynb_checkpoints--DIR--\n",
      "C:\\Users\\admin\\JNotebooks\\bmi.ipynb\n",
      "C:\\Users\\admin\\JNotebooks\\Chapter Five Exercise.ipynb\n",
      "C:\\Users\\admin\\JNotebooks\\ChapterEightExercises.ipynb\n",
      "C:\\Users\\admin\\JNotebooks\\ChapterEightSolutions.ipynb\n",
      "C:\\Users\\admin\\JNotebooks\\ChapterElevenExercises.ipynb\n",
      "C:\\Users\\admin\\JNotebooks\\ChapterElevenSolutions.ipynb\n",
      "C:\\Users\\admin\\JNotebooks\\ChapterFifteenExercises.ipynb\n",
      "C:\\Users\\admin\\JNotebooks\\ChapterFifteenSolutions.ipynb\n",
      "C:\\Users\\admin\\JNotebooks\\ChapterFiveExercises.ipynb\n",
      "C:\\Users\\admin\\JNotebooks\\ChapterFiveSolutions.ipynb\n",
      "C:\\Users\\admin\\JNotebooks\\ChapterFourteenExercises.ipynb\n",
      "C:\\Users\\admin\\JNotebooks\\ChapterFourteenWorkshopAndExercises.ipynb\n",
      "C:\\Users\\admin\\JNotebooks\\ChapterOneExercises.ipynb\n",
      "C:\\Users\\admin\\JNotebooks\\ChapterOneSolutions.ipynb\n",
      "C:\\Users\\admin\\JNotebooks\\ChapterSevenExercises.ipynb\n",
      "C:\\Users\\admin\\JNotebooks\\ChapterSevenSolutions.ipynb\n",
      "C:\\Users\\admin\\JNotebooks\\ChapterSixExamples.ipynb\n",
      "C:\\Users\\admin\\JNotebooks\\ChapterSixExercises.ipynb\n",
      "C:\\Users\\admin\\JNotebooks\\ChapterSixSolutions.ipynb\n",
      "C:\\Users\\admin\\JNotebooks\\ChapterTenExercises.epub\n",
      "C:\\Users\\admin\\JNotebooks\\ChapterTenExercises.html\n",
      "C:\\Users\\admin\\JNotebooks\\ChapterTenExercises.ipynb\n",
      "C:\\Users\\admin\\JNotebooks\\ChapterTenSolutions.html\n",
      "C:\\Users\\admin\\JNotebooks\\ChapterTenSolutions.ipynb\n",
      "C:\\Users\\admin\\JNotebooks\\ChapterThreeExercises.ipynb\n",
      "C:\\Users\\admin\\JNotebooks\\ChapterThreeSolutions.ipynb\n",
      "C:\\Users\\admin\\JNotebooks\\ChapterTwelveExercises.ipynb\n",
      "C:\\Users\\admin\\JNotebooks\\ChapterTwelveSolutions.ipynb\n",
      "C:\\Users\\admin\\JNotebooks\\ChapterTwoExercises.ipynb\n",
      "C:\\Users\\admin\\JNotebooks\\ChapterTwoSolutions.ipynb\n",
      "C:\\Users\\admin\\JNotebooks\\coinmech.ipynb\n",
      "C:\\Users\\admin\\JNotebooks\\JupyterIntro.ipynb\n",
      "C:\\Users\\admin\\JNotebooks\\Python-Notebooks-master--DIR--\n",
      "C:\\Users\\admin\\JNotebooks\\Sets.ipynb\n",
      "C:\\Users\\admin\\JNotebooks\\Tutorial 2.ipynb\n",
      "C:\\Users\\admin\\JNotebooks\\tutorial1.ipynb\n",
      "C:\\Users\\admin\\JNotebooks\\Tutorial1_1.ipynb\n",
      "C:\\Users\\admin\\JNotebooks\\Tutorial1_2.ipynb\n",
      "C:\\Users\\admin\\JNotebooks\\Tutorial1_3.ipynb\n",
      "C:\\Users\\admin\\JNotebooks\\Tutorial2.ipynb\n",
      "C:\\Users\\admin\\JNotebooks\\Tutorial2Solutions.ipynb\n",
      "C:\\Users\\admin\\JNotebooks\\Tutorial2_1.ipynb\n",
      "C:\\Users\\admin\\JNotebooks\\Tutorial2_2.ipynb\n",
      "C:\\Users\\admin\\JNotebooks\\Tutorial2_3.ipynb\n",
      "C:\\Users\\admin\\JNotebooks\\Untitled.ipynb\n",
      "C:\\Users\\admin\\JNotebooks\\Untitled1.ipynb\n",
      "C:\\Users\\admin\\JNotebooks\\Untitled10.ipynb\n",
      "C:\\Users\\admin\\JNotebooks\\Untitled11.ipynb\n",
      "C:\\Users\\admin\\JNotebooks\\Untitled12.ipynb\n",
      "C:\\Users\\admin\\JNotebooks\\Untitled13.ipynb\n",
      "C:\\Users\\admin\\JNotebooks\\Untitled14.ipynb\n",
      "C:\\Users\\admin\\JNotebooks\\Untitled15.ipynb\n",
      "C:\\Users\\admin\\JNotebooks\\Untitled16.ipynb\n",
      "C:\\Users\\admin\\JNotebooks\\Untitled2.ipynb\n",
      "C:\\Users\\admin\\JNotebooks\\Untitled3.ipynb\n",
      "C:\\Users\\admin\\JNotebooks\\Untitled4.ipynb\n",
      "C:\\Users\\admin\\JNotebooks\\Untitled5.ipynb\n",
      "C:\\Users\\admin\\JNotebooks\\Untitled6.ipynb\n",
      "C:\\Users\\admin\\JNotebooks\\Untitled7.ipynb\n",
      "C:\\Users\\admin\\JNotebooks\\Untitled8.ipynb\n",
      "C:\\Users\\admin\\JNotebooks\\Untitled9.ipynb\n",
      "C:\\Users\\admin\\JNotebooks\\WeekOneExerciseSolutions.ipynb\n",
      "C:\\Users\\admin\\JNotebooks\\workbook.ipynb\n"
     ]
    }
   ],
   "source": [
    "def walk(dirname):\n",
    "    for name in os.listdir(dirname):\n",
    "        path = os.path.join(dirname, name)\n",
    "        if os.path.isfile(path):\n",
    "            print(path)\n",
    "        else:\n",
    "            walk(path)\n",
    "        \n",
    "walk(\"Enter your own directory name\")"
   ]
  },
  {
   "cell_type": "markdown",
   "metadata": {},
   "source": [
    "Copy and modify the above code to provide a function **listext** which takes a full path directory name and a file extension. It should recursively traverse all directories listing files with the specified extension. Provide a suitable docstring."
   ]
  },
  {
   "cell_type": "code",
   "execution_count": null,
   "metadata": {},
   "outputs": [],
   "source": [
    "# Exercise 14.1\n"
   ]
  },
  {
   "cell_type": "markdown",
   "metadata": {},
   "source": [
    "## Exceptions\n",
    "\n",
    "Exceptions are a feature of most contemporary programming languages. Exceptions are **objects** that are **raised** when an error occurs. When an error is likely to occur (or at least possible) we can attempt to protect the code concerned in a manner which will allow us to recover from the error - rather than let the program fail with an unhelpful message. To protect a block of code we use the **try:** statement (terminated by : as a block of code follows). After the code block an **except:** clase introduces a block that is executed if an exception is raised. Following this there is *optionally* a **finally:** clause which is executed whether or not an error occurred. The finally clause is often used to close open files.\n",
    "\n",
    "Run the following example:"
   ]
  },
  {
   "cell_type": "code",
   "execution_count": 12,
   "metadata": {},
   "outputs": [
    {
     "name": "stdout",
     "output_type": "stream",
     "text": [
      "Enter an Integer Divisor 0\n"
     ]
    },
    {
     "ename": "ZeroDivisionError",
     "evalue": "float division by zero",
     "output_type": "error",
     "traceback": [
      "\u001b[1;31m---------------------------------------------------------------------------\u001b[0m",
      "\u001b[1;31mZeroDivisionError\u001b[0m                         Traceback (most recent call last)",
      "\u001b[1;32m<ipython-input-12-14a17d9b6b3b>\u001b[0m in \u001b[0;36m<module>\u001b[1;34m\u001b[0m\n\u001b[0;32m      1\u001b[0m \u001b[0mx\u001b[0m \u001b[1;33m=\u001b[0m \u001b[0mint\u001b[0m\u001b[1;33m(\u001b[0m\u001b[0minput\u001b[0m\u001b[1;33m(\u001b[0m\u001b[1;34m\"Enter an Integer Divisor \"\u001b[0m\u001b[1;33m)\u001b[0m\u001b[1;33m)\u001b[0m\u001b[1;33m\u001b[0m\u001b[1;33m\u001b[0m\u001b[0m\n\u001b[1;32m----> 2\u001b[1;33m \u001b[0my\u001b[0m \u001b[1;33m=\u001b[0m \u001b[1;33m(\u001b[0m\u001b[1;36m22\u001b[0m\u001b[1;33m/\u001b[0m\u001b[1;36m7\u001b[0m\u001b[1;33m)\u001b[0m\u001b[1;33m/\u001b[0m\u001b[0mx\u001b[0m\u001b[1;33m\u001b[0m\u001b[1;33m\u001b[0m\u001b[0m\n\u001b[0m\u001b[0;32m      3\u001b[0m \u001b[0mprint\u001b[0m\u001b[1;33m(\u001b[0m\u001b[0my\u001b[0m\u001b[1;33m)\u001b[0m\u001b[1;33m\u001b[0m\u001b[1;33m\u001b[0m\u001b[0m\n",
      "\u001b[1;31mZeroDivisionError\u001b[0m: float division by zero"
     ]
    }
   ],
   "source": [
    "x = int(input(\"Enter an Integer Divisor \"))\n",
    "y = (22/7)/x\n",
    "print(y)"
   ]
  },
  {
   "cell_type": "markdown",
   "metadata": {},
   "source": [
    "If you enter the value 0 as the requested integer divisor, the program stops at the second statement reporting a **ZeroDivisionError**. Now run the following example:"
   ]
  },
  {
   "cell_type": "code",
   "execution_count": 13,
   "metadata": {},
   "outputs": [
    {
     "name": "stdout",
     "output_type": "stream",
     "text": [
      "Enter an Integer Divisor 0\n",
      "We have a problem\n",
      "0\n"
     ]
    }
   ],
   "source": [
    "try:\n",
    "    x = int(input(\"Enter an Integer Divisor \"))\n",
    "    y = (22/7)/x\n",
    "except:\n",
    "    print(\"We have a problem\")\n",
    "    y=0\n",
    "    \n",
    "print(y)    "
   ]
  },
  {
   "cell_type": "markdown",
   "metadata": {},
   "source": [
    "This time the code executes until the end as we have 'caught' the error and ensured that y has a value (which might or might not be a good thing!). The program does not fail and we could attempt to do something to correct the error.\n",
    "\n",
    "### Exceptions and File Handling\n",
    "\n",
    "One of the occasions that things are most likely to go wrong with a program is when external files are being accessed. The file may not contain the data that was expected, the file could be corrupt, the device may be missing or faulty and so on. When accessing files it is thus common to place the relevant code in a **try** protected block and at minimum inform the user of the error in the **except** clause.\n",
    "\n",
    "## JSON\n",
    "\n",
    "Pickle is mentioned in the Downey text. Since the text was written (2014) a data representation language known as JSON (JavaScript Object Notation) has been adopted by many as a means of storing data structures to files and of transmitting data across networks. It is supported by many different languages - a big advantage over the pickle method which is Python specific. It is therefore important that you are aware of it and the support provided for it by Python. \n",
    "\n",
    "First, take a look at this simple JSON example:\n",
    "\n",
    "{\n",
    "    \"Currency\":\"EUR\",\n",
    "    \"Super\":\"Euro\",\n",
    "    \"Sub\":\"Cent\"\n",
    "}\n",
    "\n",
    "Now that you are familiar with Python, you will recognise that this is also a Python Dictionary! Lists are also essentially identical. These similarities in format have made it straightforward to include support for JSON storage within Python through the **json** module.\n",
    "\n",
    "JSON provides structured, recursive storage, and the JSON module provides the parsing methods necessary to save and load JSON data. Consider this reasonably complex data structure:\n",
    "\n",
    "```\n",
    "cur = {\n",
    " \"EUR\":{\"Name\":\"Euro\",\"Super\":\"Euro\",\"Sub\":\"Cent\",\"coins\":[200,100,50,20,10,5,2,1]},\n",
    " \"GBP\":{\"Name\":\"Pound Sterling\",\"Super\":\"Pound\",\"Sub\":\"Penny\",\"coins\":[200,100,50,20,10,5,2,1]},\n",
    " \"USD\":{\"Name\":\"United States Dollar\",\"Super\":\"Dollar\",\"Sub\":\"Cent\",\"coins\":[100,50,25,10,5,1]},\n",
    " \"AUD\":{\"Name\":\"Australian Dollar\",\"Super\":\"Dollar\",\"Sub\":\"Cent\",\"coins\":[200,100,50,20,10,5,1]}, \n",
    " \"JPY\":{\"Name\":\"Japanese Yen\",\"Super\":\"Yen\",\"Sub\":\"Yen\",\"coins\":[500,100,50,10,5,1]}       \n",
    "}\n",
    "```\n",
    "We have a dictionary each item of which has a value which is a dictionary which in turn has items which reference strings or in the final case a list.\n",
    "\n",
    "Lets examine how we might read and write such a data structure using the JSON format:"
   ]
  },
  {
   "cell_type": "code",
   "execution_count": 15,
   "metadata": {},
   "outputs": [],
   "source": [
    "import json\n",
    "\n",
    "cur = {\n",
    " \"EUR\":{\"Name\":\"Euro\",\"Super\":\"Euro\",\"Sub\":\"Cent\",\"coins\":[200,100,50,20,10,5,2,1]},\n",
    " \"GBP\":{\"Name\":\"Pound Sterling\",\"Super\":\"Pound\",\"Sub\":\"Penny\",\"coins\":[200,100,50,20,10,5,2,1]},\n",
    " \"USD\":{\"Name\":\"United States Dollar\",\"Super\":\"Dollar\",\"Sub\":\"Cent\",\"coins\":[100,50,25,10,5,1]},\n",
    " \"AUD\":{\"Name\":\"Australian Dollar\",\"Super\":\"Dollar\",\"Sub\":\"Cent\",\"coins\":[200,100,50,20,10,5,1]}, \n",
    " \"JPY\":{\"Name\":\"Japanese Yen\",\"Super\":\"Yen\",\"Sub\":\"Yen\",\"coins\":[500,100,50,10,5,1]}       \n",
    "}\n",
    "\n",
    "with open('currencies.json', 'w') as f:\n",
    "    json.dump(cur, f)\n",
    "\n",
    "\n"
   ]
  },
  {
   "cell_type": "markdown",
   "metadata": {},
   "source": [
    "Note that the use of the **with..as** statement when opening a file ensures that it is automatically closed when the subsequent statement block ends.\n",
    "Run the above code. If you check your Jupyter working directory you should see the file *currencies.json*. If you open and view the file in a text editor, you will see the *cur* data structure in JSON format. Close the text editor. We will now attempt to read the file back into a different variable:"
   ]
  },
  {
   "cell_type": "code",
   "execution_count": 17,
   "metadata": {},
   "outputs": [
    {
     "name": "stdout",
     "output_type": "stream",
     "text": [
      "[200, 100, 50, 20, 10, 5, 2, 1]\n"
     ]
    }
   ],
   "source": [
    "import json\n",
    "\n",
    "f = open('currencies.json')\n",
    "newcur = json.load(f)\n",
    "f.close()\n",
    "print(newcur['EUR']['coins'])"
   ]
  },
  {
   "cell_type": "markdown",
   "metadata": {},
   "source": [
    "## Exercise 14.2"
   ]
  },
  {
   "cell_type": "markdown",
   "metadata": {},
   "source": [
    "In the resources folder for the module you will find a file **txtsample.txt** containg a simple text narrative from a children's book. Download and save the file to either your Jupyter document directory or somewhere you can access it from Spyder. Write a program to read the file, keeping tally of the frequency with which each unique word occurs (as a dictionary). The file access should be protected in a **try:** block and any exception should lead to an explanatory message to the user.\n",
    "\n",
    "Write the dictionary to a file **samplewords.json** using the JSON format.\n",
    "\n",
    "In order to solve this problem you may need some extra input from me:\n",
    "\n",
    "### The **sorted** Function and Lamda Functions\n",
    "\n",
    "Dictionaries are not sorted. They have a **hash function** which allows a key to be found in a constant time (otherwise we would be doing sequential traversals to find a key - which would be very time consuming). In this case, once we have constructed the word frequency list, we can sort it once. We need to sort it by value which makes things a little trickier than sorting by key.\n",
    "\n",
    "Python has a function **sorted**. Here is its syntax:\n",
    "\n",
    "```sorted(iterable, key=key, reverse=reverse)```\n",
    "\n",
    "- iterable is anything that can be iterated like strings lists and dictionaries\n",
    "- key is a function to execute to decide the order - returns the value to be sorted on\n",
    "- reverse is a boolean. False will sort ascending. True descending.\n",
    "\n",
    "Sorted iterates over the iterable using a for..in loop. Unfortunately, when you iterate over a dictionary, only the key of each key-value pair is returned on each iteration. This is illustrated below: \n",
    "\n"
   ]
  },
  {
   "cell_type": "code",
   "execution_count": null,
   "metadata": {},
   "outputs": [],
   "source": [
    "d = {\"A\":88,\"B\":22,\"C\":66,\"D\":32,\"E\":95}\n",
    "print(d)\n",
    "print(sorted(d)"
   ]
  },
  {
   "cell_type": "markdown",
   "metadata": {},
   "source": [
    "As you can see, there is a further problem. The dictionary keys are in order of key. We could reverse it thus:"
   ]
  },
  {
   "cell_type": "code",
   "execution_count": null,
   "metadata": {},
   "outputs": [],
   "source": [
    "d = {\"A\":88,\"B\":22,\"C\":66,\"D\":32,\"E\":95}\n",
    "print(d)\n",
    "print(sorted(d, reverse=True))"
   ]
  },
  {
   "cell_type": "markdown",
   "metadata": {},
   "source": [
    "To sort on values, we have to specify the value to sort on using a function which will be automatically be passed the value returned on each iteration (the key of the dictionary):"
   ]
  },
  {
   "cell_type": "code",
   "execution_count": null,
   "metadata": {},
   "outputs": [],
   "source": [
    "def getval(x):\n",
    "    global d\n",
    "    return d[x]\n",
    "\n",
    "d = {\"A\":88,\"B\":22,\"C\":66,\"D\":32,\"E\":95}\n",
    "print(d)\n",
    "print(sorted(d, key = getval))"
   ]
  },
  {
   "cell_type": "markdown",
   "metadata": {},
   "source": [
    "Placing a print statement within the getval function may make this easier to understand:"
   ]
  },
  {
   "cell_type": "code",
   "execution_count": null,
   "metadata": {},
   "outputs": [],
   "source": [
    "def getval(x):\n",
    "    global d\n",
    "    print(x)\n",
    "    return d[x]\n",
    "\n",
    "d = {\"A\":88,\"B\":22,\"C\":66,\"D\":32,\"E\":95}\n",
    "print(d)\n",
    "print(sorted(d, key = getval))"
   ]
  },
  {
   "cell_type": "markdown",
   "metadata": {},
   "source": [
    "So, now we have the keys sorted in order of the values. There is an improvement we could make though. Python supports Lambda functions which are anonymous and can be defined and executed inline. Given the value x returned on each iteration of sorted, we can defined a function of x using a simple notation:"
   ]
  },
  {
   "cell_type": "code",
   "execution_count": null,
   "metadata": {},
   "outputs": [],
   "source": [
    "d = {\"A\":88,\"B\":22,\"C\":66,\"D\":32,\"E\":95}\n",
    "print(d)\n",
    "print(sorted(d, key = lambda x:d[x]))"
   ]
  },
  {
   "cell_type": "markdown",
   "metadata": {},
   "source": [
    "The statement lamda x:d[x] simply means that for each value of x (the dictionary key) we will return the corresponding value d[x] to be used as the sort value. Lambda functions are incredibly useful and efficient in this manner. Note that sorted returns a list.\n",
    "\n",
    "There is one further improvement that we could make. The dictionary class has a method items that returns a list of tuples containing the name-value pairs. To obtain this list prior to the sort would be slightly more efficient and give us both keys and values in the return value of sorted:"
   ]
  },
  {
   "cell_type": "code",
   "execution_count": null,
   "metadata": {},
   "outputs": [],
   "source": [
    "d = {\"A\":88,\"B\":22,\"C\":66,\"D\":32,\"E\":95}\n",
    "print(d)\n",
    "print(sorted(d.items(), key = lambda x:x[1]))"
   ]
  },
  {
   "cell_type": "markdown",
   "metadata": {},
   "source": [
    "The value available to the function assigned to key is now a tuple containing the key and value of each item in the dictionary. Thus for each x (tuple) we return the value (x[1]).\n",
    "\n",
    "### Text Files\n",
    "\n",
    "Not all text files are created equal! Many different encoding protocols are used to represent characters stored to files. Python uses UTF-8 as **default**. The text file **sample.txt** was prepared on a central european windows 10 machine and hence has **cp1250** encoding. The encoding can be specified when you open a file. Assuming that **sample.txt** is in the current working directory, this is how you might open it:\n",
    "\n",
    "file = open(\"sample.txt\",'r',encoding ='cp1250')\n",
    "\n",
    "You should now be in a position to solve the problem!"
   ]
  },
  {
   "cell_type": "code",
   "execution_count": null,
   "metadata": {},
   "outputs": [],
   "source": [
    "## Exercise 14.2\n"
   ]
  },
  {
   "cell_type": "markdown",
   "metadata": {},
   "source": [
    "## Exercise 14.3\n",
    "\n",
    "Write a program that reads the file **samplewords.txt** ensuring that the access is protected in a **try:** block. If the read was successful, print the five most and five least frequently occurring words."
   ]
  },
  {
   "cell_type": "code",
   "execution_count": null,
   "metadata": {},
   "outputs": [],
   "source": [
    "# Exercise 14.3\n"
   ]
  }
 ],
 "metadata": {
  "kernelspec": {
   "display_name": "Python 3",
   "language": "python",
   "name": "python3"
  },
  "language_info": {
   "codemirror_mode": {
    "name": "ipython",
    "version": 3
   },
   "file_extension": ".py",
   "mimetype": "text/x-python",
   "name": "python",
   "nbconvert_exporter": "python",
   "pygments_lexer": "ipython3",
   "version": "3.8.5"
  }
 },
 "nbformat": 4,
 "nbformat_minor": 4
}
