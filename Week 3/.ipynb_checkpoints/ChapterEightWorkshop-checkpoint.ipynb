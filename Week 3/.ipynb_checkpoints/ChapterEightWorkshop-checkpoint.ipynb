{
 "cells": [
  {
   "cell_type": "markdown",
   "metadata": {},
   "source": [
    "# Chapter Eight Exercises\n",
    "\n",
    "Before attempting these exercises, read the documentation of the string methods at http: // docs. python.org/3/library/stdtypes. You might want to experiment with some of them\n",
    "to make sure you understand how they work. **strip**, **join** and **replace** are particularly useful.\n",
    "The documentation uses a syntax (called Extended Bakhaus Nauer Form or EBNF) that might be confusing. For example, in \n",
    "\n",
    "```\n",
    "find(sub[, start[, end]])\n",
    "```\n",
    "the square brackets indicate optional arguments. So in the illustration, **sub** is required, but **start** is optional, and if you include **start**, then **end** is optional."
   ]
  },
  {
   "cell_type": "markdown",
   "metadata": {},
   "source": [
    "## Exercise 8.1.\n",
    "\n",
    "There is a string method called **count**. Read the documentation for this method and write an invocation that counts the number of a’s in 'abracadabra'."
   ]
  },
  {
   "cell_type": "code",
   "execution_count": 1,
   "metadata": {},
   "outputs": [
    {
     "name": "stdout",
     "output_type": "stream",
     "text": [
      "5\n"
     ]
    }
   ],
   "source": [
    "# Exercise 8.1\n",
    "letterToFind = 'a'\n",
    "searchableString = 'abracadabra'\n",
    "theLetterCount = searchableString.count(letterToFind)\n",
    "print(theLetterCount)"
   ]
  },
  {
   "cell_type": "markdown",
   "metadata": {},
   "source": [
    "## Exercise 8.2 \n",
    "\n",
    "The following functions are all intended to check whether a string contains any\n",
    "lowercase letters, but at least some of them are wrong. For each function, describe what the function\n",
    "actually does (assuming that the parameter is a string).\n",
    "\n",
    "### Exercise 8.2.1"
   ]
  },
  {
   "cell_type": "code",
   "execution_count": null,
   "metadata": {},
   "outputs": [],
   "source": [
    "# Exercise 8.2.1\n",
    "def any_lowercase1(s):\n",
    "    for c in s:\n",
    "        if c.islower():\n",
    "            return True\n",
    "        else:\n",
    "            return False"
   ]
  },
  {
   "cell_type": "markdown",
   "metadata": {},
   "source": [
    "#### Place your explanation here:\n",
    "\n"
   ]
  },
  {
   "cell_type": "markdown",
   "metadata": {},
   "source": [
    "### Exercise 8.2.2"
   ]
  },
  {
   "cell_type": "code",
   "execution_count": null,
   "metadata": {},
   "outputs": [],
   "source": [
    "# Exercise 8.2.2\n",
    "\n",
    "def any_lowercase2(s):\n",
    "    for c in s:\n",
    "        if 'c'.islower():\n",
    "            return 'True'\n",
    "        else:\n",
    "            return 'False'\n"
   ]
  },
  {
   "cell_type": "markdown",
   "metadata": {},
   "source": [
    "#### Place your explanation here:\n",
    "\n"
   ]
  },
  {
   "cell_type": "markdown",
   "metadata": {},
   "source": [
    "### Exercise 8.2.3"
   ]
  },
  {
   "cell_type": "code",
   "execution_count": null,
   "metadata": {},
   "outputs": [],
   "source": [
    "# Exercise 8.2.3\n",
    "\n",
    "def any_lowercase3(s):\n",
    "    for c in s:\n",
    "        flag = c.islower()\n",
    "    return flag"
   ]
  },
  {
   "cell_type": "markdown",
   "metadata": {},
   "source": [
    "#### Place yor explanation here:\n"
   ]
  },
  {
   "cell_type": "markdown",
   "metadata": {},
   "source": [
    "### Exercise 8.2.4"
   ]
  },
  {
   "cell_type": "code",
   "execution_count": null,
   "metadata": {},
   "outputs": [],
   "source": [
    "# Exercise 8.2.4\n",
    "def any_lowercase4(s):\n",
    "    flag = False\n",
    "    for c in s:\n",
    "        flag = flag or c.islower()\n",
    "    return flag"
   ]
  },
  {
   "cell_type": "markdown",
   "metadata": {},
   "source": [
    "#### Place your explanation here\n",
    "\n"
   ]
  },
  {
   "cell_type": "markdown",
   "metadata": {},
   "source": [
    "### Exercise 8.2.5"
   ]
  },
  {
   "cell_type": "code",
   "execution_count": null,
   "metadata": {},
   "outputs": [],
   "source": [
    "# Exercise 8.2.5\n",
    "\n",
    "def any_lowercase5(s):\n",
    "    for c in s:\n",
    "        if not c.islower():\n",
    "            return False\n",
    "    return True\n"
   ]
  },
  {
   "cell_type": "markdown",
   "metadata": {},
   "source": [
    "#### Place your explanation here\n",
    "\n",
    "\n"
   ]
  },
  {
   "cell_type": "markdown",
   "metadata": {},
   "source": [
    "## Exercise 8.3\n",
    "\n",
    "A Caesar cypher is a weak form of encryption that involves “rotating” each letter by\n",
    "a fixed number of places. To rotate a letter means to shift it through the alphabet, wrapping around\n",
    "to the beginning if necessary, so ’A’ rotated by 3 is ’D’ and ’Z’ rotated by 1 is ’A’.\n",
    "To rotate a word, rotate each letter by the same amount. For example, “cheer” rotated by 7 is “jolly”\n",
    "and “melon” rotated by -10 is “cubed”. In the movie 2001: A Space Odyssey, the ship computer\n",
    "is called HAL, which is IBM rotated by -1.\n",
    "\n",
    "Write a function called rotate_word that takes a string and an integer as parameters, and returns\n",
    "a new string that contains the letters from the original string rotated by the given amount.\n",
    "\n",
    "You might want to use the built-in function **ord**, which converts a character to a numeric code, and\n",
    "**chr**, which converts numeric codes to characters. Letters of the alphabet are encoded in alphabetical\n",
    "order, so for example:\n",
    "```\n",
    "print(ord('c') - ord('a'))\n",
    "```\n",
    "prints the result 2.\n",
    "\n",
    "The numeric codes for upper case letters are different, but your cipher should rotate upper and lower case letters independently.\n",
    "\n"
   ]
  },
  {
   "cell_type": "code",
   "execution_count": 27,
   "metadata": {},
   "outputs": [
    {
     "name": "stdout",
     "output_type": "stream",
     "text": [
      "Enter your secret: DM suxs\n",
      "Enter your salt: 1\n",
      "EN!tvyt\n"
     ]
    }
   ],
   "source": [
    "# Exercise 8.3\n",
    "def rotate_word(word, rotation):\n",
    "    returnString = ''\n",
    "    for x in word:\n",
    "        returnVal = ord(x) + int(rotation)\n",
    "        returnString += chr(returnVal)\n",
    "    print(returnString)\n",
    "\n",
    "secret = input('Enter your secret: ')\n",
    "salt   = input('Enter your salt: ')\n",
    "rotate_word(secret, salt)\n"
   ]
  },
  {
   "cell_type": "markdown",
   "metadata": {},
   "source": [
    "## Exercise 8.4\n",
    "\n",
    "A slightly more sophisticated form of cipher uses a shared phrase to determine the rotation of individual letters in a message. Suppose our message was 'EFGH' and our shared phrase 'ABC'. For simplicity, lets keep everything to upper case and that within the shared phrase A=1, B=2 and C=3. To encrypt we sequence through the message and the phrase simultaneously. Thus E is shifted by A (1). F is shifted by B (2). G is shifted by C (3). Finally, H is shifted by A (1) as we cycle around the shared phrase. Write a function that will accept a message and a phrase and encrypt it using this technique. Write a second function that will decrypt an encrypted message. \n",
    "\n",
    "If you have not already created one, it will be useful to have a function rotate_letter(char,n) that will return *char* rotated by *n*.\n",
    "The following might also be of use:"
   ]
  },
  {
   "cell_type": "code",
   "execution_count": 7,
   "metadata": {},
   "outputs": [
    {
     "name": "stdout",
     "output_type": "stream",
     "text": [
      "65\n",
      "1\n",
      "2\n",
      "97\n",
      "1\n"
     ]
    }
   ],
   "source": [
    "print(ord('A'))\n",
    "print(ord('A')-64)\n",
    "print(ord('B')-64)\n",
    "print(ord('a'))\n",
    "print(ord('b')-ord('a'))"
   ]
  },
  {
   "cell_type": "code",
   "execution_count": 30,
   "metadata": {},
   "outputs": [
    {
     "name": "stdout",
     "output_type": "stream",
     "text": [
      ">> ª¬´a«¶a¢b¶¦¤´¨µ <<\n",
      "plaintext is\n",
      ">> This is a secret <<\n"
     ]
    }
   ],
   "source": [
    "# Exercise 8.4\n",
    "def encode_word(plaintext):\n",
    "    saltPhrase = 'ABC'\n",
    "    saltLen = len(saltPhrase)\n",
    "    i = 0\n",
    "    returnString = ''   \n",
    "\n",
    "    for x in plaintext:\n",
    "        if i < saltLen:  \n",
    "            #plainVal = ord(x)         \n",
    "            #saltVal = ord(saltPhrase[i])\n",
    "            #saltedVal = plainVal + saltVal\n",
    "            #print(plainVal)\n",
    "            #print(saltVal)\n",
    "            #print(saltedVal)\n",
    "            returnVal = ord(x) + ord(saltPhrase[i])        \n",
    "            returnString += chr(returnVal)\n",
    "            i += 1\n",
    "        else:\n",
    "            i = 0            \n",
    "            returnVal = ord(x)  + ord(saltPhrase[i])\n",
    "            returnString += chr(returnVal)\n",
    "    return returnString\n",
    "\n",
    "def decode_word(secretText, saltPhrase):\n",
    "    saltLen = len(saltPhrase)\n",
    "    i = 0\n",
    "    returnString = ''   \n",
    "\n",
    "    for x in secretText:\n",
    "        if i < saltLen:  \n",
    "            #plainVal = ord(x)         \n",
    "            #saltVal = ord(saltPhrase[i])\n",
    "            #saltedVal = plainVal + saltVal\n",
    "            #print(plainVal)\n",
    "            #print(saltVal)\n",
    "            #print(saltedVal)\n",
    "            returnVal = ord(x) - ord(saltPhrase[i])        \n",
    "            returnString += chr(returnVal)\n",
    "            i += 1\n",
    "        else:\n",
    "            i = 0            \n",
    "            returnVal = ord(x)  - ord(saltPhrase[i])\n",
    "            returnString += chr(returnVal)\n",
    "    return returnString\n",
    "\n",
    "text = 'This is a secret'\n",
    "ciper = encode_word(text)\n",
    "print(\"Encrupted text is >>\",ciper,\"<<\")\n",
    "print(\"Plaintext is >>\", decode_word(ciper, \"ABC\"), \"<<\")"
   ]
  },
  {
   "cell_type": "code",
   "execution_count": null,
   "metadata": {},
   "outputs": [],
   "source": []
  }
 ],
 "metadata": {
  "kernelspec": {
   "display_name": "Python 3",
   "language": "python",
   "name": "python3"
  },
  "language_info": {
   "codemirror_mode": {
    "name": "ipython",
    "version": 3
   },
   "file_extension": ".py",
   "mimetype": "text/x-python",
   "name": "python",
   "nbconvert_exporter": "python",
   "pygments_lexer": "ipython3",
   "version": "3.8.5"
  }
 },
 "nbformat": 4,
 "nbformat_minor": 4
}
