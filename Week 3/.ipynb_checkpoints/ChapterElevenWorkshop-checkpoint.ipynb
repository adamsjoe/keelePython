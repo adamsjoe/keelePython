{
 "cells": [
  {
   "cell_type": "markdown",
   "metadata": {},
   "source": [
    "# Chapter Eleven Workshop Exercises \n",
    "\n",
    "## Exercise 11.1\n",
    "\n",
    "Write a Python script to create and print a dictionary where the keys are numbers between 1 and 15 (both included) and the values are cube of keys."
   ]
  },
  {
   "cell_type": "code",
   "execution_count": 2,
   "metadata": {},
   "outputs": [
    {
     "name": "stdout",
     "output_type": "stream",
     "text": [
      "{1: 1, 2: 8, 3: 27, 4: 64, 5: 125, 6: 216, 7: 343, 8: 512, 9: 729, 10: 1000, 11: 1331, 12: 1728, 13: 2197, 14: 2744, 15: 3375}\n"
     ]
    }
   ],
   "source": [
    "# Exercise 11.1\n",
    "theDict = {}\n",
    "for x in range(1, 16):\n",
    "    theDict[x] = x**3\n",
    "\n",
    "print(theDict)"
   ]
  },
  {
   "cell_type": "markdown",
   "metadata": {},
   "source": [
    "## Exercise 11.2\n",
    "\n",
    "Write a Python program to create a dictionary from a string such that each key is a unique letter from the string and the corresponding value is the number of times that the letter occurs in the string. So for the string \"abracadabra\" the dictionary should be {'a':5,'b':2,'c':1,'d':1,'r':2}\n"
   ]
  },
  {
   "cell_type": "code",
   "execution_count": 2,
   "metadata": {},
   "outputs": [],
   "source": [
    "# Exercise 11.2\n",
    "string = 'abracadabra'\n",
    "\n",
    "data = dict()\n",
    "for char in string:\n",
    "    if char not in data:\n",
    "        data[char] = 1\n",
    "    else:\n",
    "        data[char] += 1\n",
    "\n",
    "print(data)"
   ]
  },
  {
   "cell_type": "markdown",
   "metadata": {},
   "source": [
    "## Exercise 11.3\n",
    "\n",
    "Examine the following code:\n",
    "```\n",
    "db=[\n",
    "  {\n",
    "    \"name\":\"John\",\n",
    "    \"surname\": \"Davies\",\n",
    "    \"age\": 23,\n",
    "    \"company\": {\n",
    "                     \"name\": \"Google\",\n",
    "                     \"role\": \"Programmer\"\n",
    "          }\n",
    "  },\n",
    "  {\n",
    "    \"name\":\"Boris\",\n",
    "    \"surname\": \"Barry\",\n",
    "    \"age\": 27,\n",
    "    \"company\": {\n",
    "                    \"name\": \"Microsoft\",\n",
    "                    \"role\": \"Analysts\"\n",
    "               }\n",
    "  },\n",
    "  {\n",
    "    \"name\":\"Humphrey\",\n",
    "    \"surname\": \"Smith\",\n",
    "    \"age\": 22,\n",
    "    \"company\": {\n",
    "                    \"name\": \"Microsoft\",\n",
    "                    \"role\": \"Trainee programmer\"\n",
    "               }\n",
    "  }\n",
    "]\n",
    "```\n",
    "Create a small program that lists all companies together with the full name of their employees. For example:\n",
    "\n",
    "Google : John Davies\n",
    "Microsoft : Boris Barry, Humphrey Smith\n"
   ]
  },
  {
   "cell_type": "code",
   "execution_count": 4,
   "metadata": {},
   "outputs": [
    {
     "name": "stdout",
     "output_type": "stream",
     "text": [
      "{'Google': 'John Davies', 'Microsoft': 'Boris Barry, Humphrey Smith'}\n"
     ]
    }
   ],
   "source": [
    "# Exercise 11.3\n",
    "db=[\n",
    "    {\n",
    "        \"name\":\"John\",\n",
    "        \"surname\": \"Davies\",\n",
    "        \"age\": 23,\n",
    "        \"company\": {\n",
    "            \"name\": \"Google\",\n",
    "            \"role\": \"Programmer\"\n",
    "        }\n",
    "    },\n",
    "    {\n",
    "        \"name\":\"Boris\",\n",
    "        \"surname\": \"Barry\",\n",
    "        \"age\": 27,\n",
    "        \"company\": {\n",
    "            \"name\": \"Microsoft\",\n",
    "            \"role\": \"Analysts\"\n",
    "            }\n",
    "    },\n",
    "    {\n",
    "        \"name\":\"Humphrey\",\n",
    "        \"surname\": \"Smith\",\n",
    "        \"age\": 22,\n",
    "        \"company\": {\n",
    "            \"name\": \"Microsoft\",\n",
    "            \"role\": \"Trainee programmer\"\n",
    "            }\n",
    "    }\n",
    "]\n",
    "\n",
    "# create a new dictionary\n",
    "companies = {}\n",
    "for i in db:\n",
    "    # extract the name (first and surname)\n",
    "    employeeName = i['name'] + ' ' + i['surname']\n",
    "    # extract company\n",
    "    employeeCompany= i['company']['name']\n",
    "\n",
    "    # check if the company exists in the dictionary\n",
    "    if employeeCompany in companies:\n",
    "        # add the employee to the company and add a comma\n",
    "        companies[employeeCompany] =  companies[employeeCompany] + \", \" + employeeName\n",
    "    else:\n",
    "        companies[employeeCompany] = employeeName\n",
    "    \n",
    "print(companies)"
   ]
  },
  {
   "cell_type": "markdown",
   "metadata": {},
   "source": [
    "## Exercise 11.4\n",
    "\n",
    "Dictionaries in Python are Mutable. Dictionaries are passed to functions by reference.\n",
    "\n",
    "A dictionary *dict* is declared as:\n",
    "```\n",
    "dict={'Andrew':5, 'Brian':3, 'Clive':2, 'David':4}\n",
    "```\n",
    "it contains the names of volunteers and the number of times that they have volunteered for a particular duty. The dictionary is regularly updated by providing both the dictionary and a list to a function *upd*.\n",
    "\n",
    "For the current update the following list has been declared - each name represents a new volunteer session:\n",
    "\n",
    "ulist = ['Brian', 'David', 'Peter']\n",
    "\n",
    "Write and demonstrate the function *upd*.\n"
   ]
  },
  {
   "cell_type": "code",
   "execution_count": 2,
   "metadata": {},
   "outputs": [
    {
     "name": "stdout",
     "output_type": "stream",
     "text": [
      "{'Andrew': 5, 'Brian': 3, 'Clive': 2, 'David': 4}\n",
      "{'Andrew': 5, 'Brian': 4, 'Clive': 2, 'David': 5, 'Peter': 1}\n"
     ]
    }
   ],
   "source": [
    "# Exercise 11.4\n",
    "def upd(lis):\n",
    "    for name in lis:\n",
    "        # check if the name (in the update list) exists in the dictionary\n",
    "        if name in udict:\n",
    "            # if the name exists, get the number of volunteering sessions the person has\n",
    "            sessions = udict.get(name)\n",
    "            # increment the sessions\n",
    "            sessions += 1\n",
    "            # write the new number of sessions back to the dictionary\n",
    "            udict[name] = sessions            \n",
    "        else:\n",
    "            # the name doesn't exist, so we can set the volunteering sessions to 1\n",
    "            udict[name] = 1\n",
    "\n",
    "\n",
    "udict={'Andrew':5, 'Brian':3, 'Clive':2, 'David':4}\n",
    "ulist = ['Brian', 'David', 'Peter']\n",
    "\n",
    "# for information, print the dictionary before the update is performed\n",
    "print(udict)\n",
    "\n",
    "upd(ulist)\n",
    "\n",
    "# print the dictionary after the update\n",
    "print(udict)"
   ]
  },
  {
   "cell_type": "code",
   "execution_count": null,
   "metadata": {},
   "outputs": [],
   "source": []
  }
 ],
 "metadata": {
  "kernelspec": {
   "display_name": "Python 3",
   "language": "python",
   "name": "python3"
  },
  "language_info": {
   "codemirror_mode": {
    "name": "ipython",
    "version": 3
   },
   "file_extension": ".py",
   "mimetype": "text/x-python",
   "name": "python",
   "nbconvert_exporter": "python",
   "pygments_lexer": "ipython3",
   "version": "3.8.5"
  }
 },
 "nbformat": 4,
 "nbformat_minor": 4
}
