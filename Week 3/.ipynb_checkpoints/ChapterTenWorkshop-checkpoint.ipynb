{
 "cells": [
  {
   "cell_type": "markdown",
   "metadata": {},
   "source": [
    "# Chapter Ten Workshop Exercises\n",
    "\n",
    "## Preamble\n",
    "\n",
    "Lists are a very useful **data structure**. Much of the data we deal with in the real world is presented as lists - lists of products, employees, web-pages etc. Like strings, they are examples of compound data types. Also like strings, lists are a sequence - we can refer to the first, second, third ... elements (depending upon how many items are in the list). Lists can contain other lists (lists of lists). The elements of a list do not need to be of the same type.\n",
    "\n",
    "## Exercise 10.1. \n",
    "\n",
    "Write a function called **nested_sum** that takes a list of lists of integers and adds up\n",
    "the elements from all of the nested lists. For example:\n",
    "```\n",
    "t = [[1, 2], [3], [4, 5, 6]]\n",
    "print(nested_sum(t))\n",
    "\n",
    "21\n",
    "```"
   ]
  },
  {
   "cell_type": "code",
   "execution_count": 1,
   "metadata": {},
   "outputs": [],
   "source": [
    "## Exercise 10.1\n",
    "def nested_sum(theBigList):\n",
    "    total = 0\n",
    "\n",
    "    for number in theBigList:\n",
    "        if type(number) == int:\n",
    "            # print(\"int found\")\n",
    "            total += number\n",
    "        elif type(number) == list:\n",
    "            # print(\"list found\")\n",
    "            for nestedNum in number:\n",
    "                total += nestedNum\n",
    "    return total\n",
    "\n",
    "t=[1,2,3,[4,5]]\n",
    "print(\"total is\", nested_sum(t))\n"
   ]
  },
  {
   "cell_type": "markdown",
   "metadata": {},
   "source": [
    "## Exercise 10.2\n",
    "\n",
    "Write a function called **cumsum** that takes a list of numbers and returns the cumulative sum; that is, a new list where the *i*th element is the sum of the first *i* + 1 elements from the\n",
    "original list. For example:\n",
    "\n",
    "```\n",
    "t = [1, 2, 3]\n",
    "print(cumsum(t))\n",
    "\n",
    "[1, 3, 6]\n",
    "```\n",
    "An empty list can be created with `*newlist* = []`\n",
    "A list object's *append()* method can be used to add items to the end of a list."
   ]
  },
  {
   "cell_type": "code",
   "execution_count": 2,
   "metadata": {},
   "outputs": [
    {
     "name": "stdout",
     "output_type": "stream",
     "text": [
      "[1, 3, 6]\n"
     ]
    }
   ],
   "source": [
    "# Exercise 10.2\n",
    "def cumsum(theBiglist):\n",
    "    \"\"\"\n",
    "    takes a list of integers\n",
    "    returns a list of integers that is the cumulative sum of the previous integers\n",
    "    \"\"\"\n",
    "    retLst = []\n",
    "    cumulative = 0\n",
    "    for number in theBiglist:\n",
    "        cumulative += number\n",
    "        retLst.append(cumulative)\n",
    "    return retLst\n",
    "\n",
    "t = [1, 2, 3]\n",
    "print(cumsum(t))"
   ]
  },
  {
   "cell_type": "markdown",
   "metadata": {},
   "source": [
    "## Exercise 10.3. \n",
    "\n",
    "Write a function called **middle** that takes a list and returns a new list that contains\n",
    "all but the first and last elements. For example:\n",
    "```\n",
    "t = [1, 2, 3, 4]\n",
    "print(middle(t))\n",
    "\n",
    "[2, 3]\n",
    "```\n"
   ]
  },
  {
   "cell_type": "code",
   "execution_count": 3,
   "metadata": {},
   "outputs": [
    {
     "name": "stdout",
     "output_type": "stream",
     "text": [
      "[2, 3]\n"
     ]
    }
   ],
   "source": [
    "# Exercise 10.3\n",
    "def middle(myList):\n",
    "    # ignores the first and last entries\n",
    "    newList = myList[1:-1]\n",
    "    return newList\n",
    "\n",
    "t = [1, 2, 3, 4]\n",
    "print(middle(t))\n"
   ]
  },
  {
   "cell_type": "markdown",
   "metadata": {},
   "source": [
    "## Exercise 10.4\n",
    "\n",
    "Write and test a function **max** that takes a list of numbers and returns the maximum value in the list. For example, `max([34,56,98,-12,43,124,65,45])` should return `124`.\n"
   ]
  },
  {
   "cell_type": "code",
   "execution_count": 4,
   "metadata": {},
   "outputs": [
    {
     "name": "stdout",
     "output_type": "stream",
     "text": [
      "124\n"
     ]
    }
   ],
   "source": [
    "# Exercise 10.4\n",
    "def _max(myList):\n",
    "    return max(myList)\n",
    "\n",
    "print(_max([34,56,98,-12,43,124,65,45]))"
   ]
  },
  {
   "cell_type": "markdown",
   "metadata": {},
   "source": [
    "## Exercise 10.5\n",
    "\n",
    "Write and test a function **rem_dup** that will remove duplicate items from a list. It should return a new list without the duplicates in the old list. For example, `rem_dup([1,2,2,3,4,6,6,8,1])` should return `[1,2,3,4,6,8]`.\n"
   ]
  },
  {
   "cell_type": "code",
   "execution_count": 5,
   "metadata": {},
   "outputs": [],
   "source": [
    "# Exercise 10.5\n",
    "def rem_dup(myList):\n",
    "    # create a set from the list\n",
    "    # this will automatically remove duplicates\n",
    "    return set(myList)\n",
    "\n",
    "print(rem_dup([1,2,2,3,4,6,6,8,1]))"
   ]
  },
  {
   "cell_type": "markdown",
   "metadata": {},
   "source": [
    "## Exercise 10.6\n",
    "\n",
    "Write and test a Python function **common** that takes two lists and returns True if they have at least one common member and False otherwise. \n"
   ]
  },
  {
   "cell_type": "code",
   "execution_count": 6,
   "metadata": {},
   "outputs": [],
   "source": [
    "# Exercise 10.6\n",
    "def common(list1, list2):\n",
    "    list1Set = set(list1)\n",
    "    list2Set = set(list2)\n",
    "\n",
    "    # if there exist one common element in the list1Set & list2Set returns a positive integer\n",
    "    # otherwise it returns a 0\n",
    "    if (list1Set & list2Set):\n",
    "        return True\n",
    "    else:\n",
    "        return False\n",
    "\n",
    "l1 = [1,2,3]\n",
    "l2 = [1,2,3]\n",
    "l3 = [3,4,5]\n",
    "l4 = [7,8,9]\n",
    "\n",
    "print(common(l1, l2)) #should be true - both match\n",
    "print(common(l2, l3)) #should be true - 3 is common\n",
    "print(common(l3, l4)) #should be false - no match\n",
    "print(common(l1, l4)) #should be false - no match"
   ]
  }
 ],
 "metadata": {
  "kernelspec": {
   "display_name": "Python 3",
   "language": "python",
   "name": "python3"
  },
  "language_info": {
   "codemirror_mode": {
    "name": "ipython",
    "version": 3
   },
   "file_extension": ".py",
   "mimetype": "text/x-python",
   "name": "python",
   "nbconvert_exporter": "python",
   "pygments_lexer": "ipython3",
   "version": "3.8.5"
  }
 },
 "nbformat": 4,
 "nbformat_minor": 4
}
