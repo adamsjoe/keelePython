{
 "cells": [
  {
   "cell_type": "markdown",
   "metadata": {},
   "source": [
    "# Chapter Sixteen Workshop and Exercises\n",
    "\n",
    "This workshop is intended to reflect the materials present in Chapters 16 and 17 of \"Think Python\".\n",
    "Chapter 16 of Downey's Book deals with functions that accept objects as parameters. A PURE function returns a new object. A Modifier Function modifies an object (one that can be modified - ie one that is passed by REFERENCE).\n",
    "\n",
    "If you pass immutable arguments like integers, strings or tuples to a function, the passing acts as a Call-by-value. The function works with a copy of the value and the argument cannot be modified.\n",
    "\n",
    "If you pass mutable arguments - all user defined class types are mutable, along with lists, dictionaries etc. you can modify the argument.\n",
    "\n",
    "The following example demonstrates which types can and cannot be modified:\n",
    "\n"
   ]
  },
  {
   "cell_type": "code",
   "execution_count": 1,
   "metadata": {},
   "outputs": [
    {
     "name": "stdout",
     "output_type": "stream",
     "text": [
      "Integer\n",
      "Initial :  1\n",
      "Internal :  2\n",
      "External :  1\n",
      "\n",
      "String\n",
      "Initial :  Hello\n",
      "Internal :  HelloChanged\n",
      "External :  Hello\n",
      "\n",
      "List\n",
      "Initial :  [1, 2, 3]\n",
      "Internal :  [1, 2, 3, 'Changed']\n",
      "External :  [1, 2, 3, 'Changed']\n",
      "\n",
      "Dictionary\n",
      "Initial :  {'a': 1, 'b': 2, 'c': 3}\n",
      "Internal :  {'a': 1, 'b': 2, 'c': 3, 'Changed': 1}\n",
      "External :  {'a': 1, 'b': 2, 'c': 3, 'Changed': 1}\n",
      "\n",
      "Set\n",
      "Initial :  {1, 2, 3}\n",
      "Internal :  {1, 2, 3, 9999}\n",
      "External :  {1, 2, 3, 9999}\n",
      "\n",
      "Tuple\n",
      "Initial :  (1, 2, 3)\n",
      "Internal :  (1, 2, 3, 'Changed')\n",
      "External :  (1, 2, 3)\n",
      "\n",
      "UserDefined\n",
      "Initial :  Hello \n",
      "Internal :  Hello Changed\n",
      "External :  Hello Changed\n"
     ]
    }
   ],
   "source": [
    "# By Value By Reference Example\n",
    "class UserDefined(object):\n",
    "    def __init__(self,n):\n",
    "        self.n= n\n",
    "    \n",
    "def change_int(p):\n",
    "    p+=1\n",
    "    print(\"Internal : \",p)\n",
    "def change_str(p):\n",
    "    p+=\"Changed\"\n",
    "    print(\"Internal : \",p)\n",
    "def change_list(p):\n",
    "    p.append(\"Changed\")\n",
    "    print(\"Internal : \",p)\n",
    "def change_dict(p):\n",
    "    p[\"Changed\"]=1\n",
    "    print(\"Internal : \",p)\n",
    "def change_set(p):\n",
    "    p.add(9999)\n",
    "    print(\"Internal : \",p)\n",
    "def change_tuple(p):\n",
    "    p+=(\"Changed\",)    \n",
    "    print(\"Internal : \",p)\n",
    "def change_UserDefined(p):\n",
    "    p.n+=\"Changed\"    \n",
    "    print(\"Internal : \",p.n)\n",
    "\n",
    "print(\"Integer\")    \n",
    "a = 1    \n",
    "print(\"Initial : \",a)\n",
    "change_int(a)\n",
    "print(\"External : \",a)\n",
    "\n",
    "print()\n",
    "print(\"String\")\n",
    "a=\"Hello\"\n",
    "print(\"Initial : \",a)\n",
    "change_str(a)\n",
    "print(\"External : \",a)\n",
    "\n",
    "print()\n",
    "print(\"List\")    \n",
    "a=[1,2,3]\n",
    "print(\"Initial : \",a)\n",
    "change_list(a)\n",
    "print(\"External : \",a)\n",
    "\n",
    "print()\n",
    "print(\"Dictionary\")    \n",
    "a={\"a\":1,\"b\":2,\"c\":3}\n",
    "print(\"Initial : \",a)\n",
    "change_dict(a)\n",
    "print(\"External : \",a)\n",
    "\n",
    "print()\n",
    "print(\"Set\")    \n",
    "a={1,2,3}\n",
    "print(\"Initial : \",a)\n",
    "change_set(a)\n",
    "print(\"External : \",a)\n",
    "\n",
    "print()\n",
    "print(\"Tuple\")    \n",
    "a=(1,2,3)\n",
    "print(\"Initial : \",a)\n",
    "change_tuple(a)\n",
    "print(\"External : \",a)\n",
    "\n",
    "print()\n",
    "print(\"UserDefined\")    \n",
    "a=UserDefined(\"Hello \")\n",
    "print(\"Initial : \",a.n)\n",
    "change_UserDefined(a)\n",
    "print(\"External : \",a.n)\n",
    "\n",
    "\n"
   ]
  },
  {
   "cell_type": "markdown",
   "metadata": {},
   "source": [
    "Functions that work with Classes and Objects are sometimes called **helper** functions. A good example is Python's **len** function, which returns the length of an object. We have seen it used with strings and with lists, but does it work with all objects? Lets try a few things:"
   ]
  },
  {
   "cell_type": "code",
   "execution_count": 2,
   "metadata": {},
   "outputs": [
    {
     "ename": "TypeError",
     "evalue": "object of type 'int' has no len()",
     "output_type": "error",
     "traceback": [
      "\u001b[1;31m---------------------------------------------------------------------------\u001b[0m",
      "\u001b[1;31mTypeError\u001b[0m                                 Traceback (most recent call last)",
      "\u001b[1;32m<ipython-input-2-bcb0952c6709>\u001b[0m in \u001b[0;36m<module>\u001b[1;34m\u001b[0m\n\u001b[0;32m      1\u001b[0m \u001b[0mx\u001b[0m \u001b[1;33m=\u001b[0m \u001b[1;36m12\u001b[0m\u001b[1;33m\u001b[0m\u001b[1;33m\u001b[0m\u001b[0m\n\u001b[1;32m----> 2\u001b[1;33m \u001b[0mprint\u001b[0m\u001b[1;33m(\u001b[0m\u001b[0mlen\u001b[0m\u001b[1;33m(\u001b[0m\u001b[0mx\u001b[0m\u001b[1;33m)\u001b[0m\u001b[1;33m)\u001b[0m\u001b[1;33m\u001b[0m\u001b[1;33m\u001b[0m\u001b[0m\n\u001b[0m",
      "\u001b[1;31mTypeError\u001b[0m: object of type 'int' has no len()"
     ]
    }
   ],
   "source": [
    "x = 12\n",
    "print(len(x))"
   ]
  },
  {
   "cell_type": "markdown",
   "metadata": {},
   "source": [
    "So, we hit an immediate problem. The **len** function does not work with all objects! It works with objects that contain things - but not necessarily all objects that contain things! The **len** function is **polymorphic** - it works with different types of object that share some behaviour - in this case acting as a container. We will see later that objects can CHOOSE whether to support the **len** function. This includes objects of classes that the programmer defines. If you design a new type of container you can allow the len function to operate on it to determine the number of things that it contains!"
   ]
  },
  {
   "cell_type": "markdown",
   "metadata": {},
   "source": [
    "In order to consider this and other issues more fully, we will look at developing a new (rather artificial) class. The Time class presented in the book provides some good illustrations, but here  I present a simpler alternative:"
   ]
  },
  {
   "cell_type": "code",
   "execution_count": 3,
   "metadata": {},
   "outputs": [
    {
     "name": "stdout",
     "output_type": "stream",
     "text": [
      "12:20:20\n"
     ]
    }
   ],
   "source": [
    "class Time(object):\n",
    "    def __init__(self, hour, minute, second):\n",
    "        self._secs = hour * 3600 + minute * 60 + second\n",
    "    def __str__(self):\n",
    "        return str(self._secs // 3600)+\":\"+str((self._secs % 3600) // 60)+\":\"+str(self._secs % 60)\n",
    "\n",
    "t=Time(12,20,20)\n",
    "print(t)"
   ]
  },
  {
   "cell_type": "markdown",
   "metadata": {},
   "source": [
    "In the above example, we have defined a Time class with the protected member variable \\_secs. It is convenient to hold times as a day offset in seconds. A function with the name **\\__str\\__** is also defined. You may remembers that methods with a double-underscore either side of their name are called **dunder** methods and have a special significance to Python. When you pass an object to the **print** function, Python looks for a method \\__str\\__ defined by that class. If it is found, the print statement prints the return value of that method. Hence, in the above example we have a formatted time printed. There are many of these special **dunder** methods. \n",
    "\n",
    "As an example, lets take the **\\__add\\__** method. This is called when you invoke the + operator on an object of a class. Thus we can provide an **\\__add\\__** method to our Time class which will give us the ability to add times with the + operator. When an expression like t1 + t2 is encountered, and both operands are time objects, Python will make the call `t1.__add__(t2)` and return the result:"
   ]
  },
  {
   "cell_type": "code",
   "execution_count": null,
   "metadata": {},
   "outputs": [],
   "source": [
    "\n",
    "class Time(object):\n",
    "    def __init__(self, hour, minute, second):\n",
    "        self._secs = hour * 3600 + minute * 60 + second\n",
    "    def __str__(self):\n",
    "        return str(self._secs // 3600)+\":\"+str((self._secs % 3600) // 60)+\":\"+str(self._secs % 60)\n",
    "\n",
    "    def __add__(self,t):\n",
    "        s = (self._secs + t._secs) % (3600 * 24)\n",
    "        return Time(s // 3600, (s % 3600) // 60, s % 60)\n",
    "t1 = Time(23,0,0)\n",
    "t2 = Time(2,30,15)\n",
    "t3 = t1 + t2\n",
    "print(t3)"
   ]
  },
  {
   "cell_type": "markdown",
   "metadata": {},
   "source": [
    "A basic problem with this example occurs is somebody passes a non-Time object as the argument to \\__add\\__. We can perform a check to ascertain that the object passed is of type Time using the **isinstance** function. This takes two arguments, the variable that you wish to check and the type that you wish to check against. Thus `isinstance(t1,Time)` returns True if t1 is of type Time and False otherwise. Note that **None** is a special type in Python indicating an absence of type!"
   ]
  },
  {
   "cell_type": "code",
   "execution_count": 4,
   "metadata": {},
   "outputs": [
    {
     "name": "stdout",
     "output_type": "stream",
     "text": [
      "1:30:15\n"
     ]
    }
   ],
   "source": [
    "class Time(object):\n",
    "    def __init__(self, hour, minute, second):\n",
    "        self._secs = hour * 3600 + minute * 60 + second\n",
    "    def __str__(self):\n",
    "        return str(self._secs // 3600)+\":\"+str((self._secs % 3600) // 60)+\":\"+str(self._secs % 60)\n",
    "\n",
    "    def __add__(self,t):\n",
    "        if isinstance(t,Time):\n",
    "            s = (self._secs + t._secs) % (3600 * 24)\n",
    "            return Time(s // 3600, (s % 3600) // 60, s % 60)\n",
    "        else:\n",
    "            return None\n",
    "        \n",
    "t1 = Time(23,0,0)\n",
    "t2 = Time(2,30,15)\n",
    "t3 = t1 + t2\n",
    "print(t3)"
   ]
  },
  {
   "cell_type": "markdown",
   "metadata": {},
   "source": [
    "## Exercise 16.1\n",
    "\n",
    "Provide a new method __sub__ that will overwrite the - operator for the Time class in the manner achieved for + above. Test the method to ensure that it works."
   ]
  },
  {
   "cell_type": "code",
   "execution_count": 7,
   "metadata": {},
   "outputs": [
    {
     "name": "stdout",
     "output_type": "stream",
     "text": [
      "1:30:15\n"
     ]
    }
   ],
   "source": [
    "# Exercise 16.1\n",
    "class Time(object):\n",
    "    def __init__(self, hour, minute, second):\n",
    "        self._secs = hour * 3600 + minute * 60 + second\n",
    "    def __str__(self):\n",
    "        return str(self._secs // 3600)+\":\"+str((self._secs % 3600) // 60)+\":\"+str(self._secs % 60)\n",
    "\n",
    "    def __add__(self,t):\n",
    "        if isinstance(t,Time):\n",
    "            s = (self._secs + t._secs) % (3600 * 24)\n",
    "            return Time(s // 3600, (s % 3600) // 60, s % 60)\n",
    "        else:\n",
    "            return None\n",
    "        \n",
    "    def __sub__(self,t):\n",
    "        if isinstance(t,Time):\n",
    "            s = (self._secs - t._secs) % (3600 * 24)\n",
    "            return Time(s // 3600, (s % 3600) // 60, s % 60)\n",
    "        else:\n",
    "            return None\n",
    "        \n",
    "t1=Time(23,0,0)\n",
    "t2=Time(2,30,15)\n",
    "t3=t1+t2\n",
    "print(t3)"
   ]
  },
  {
   "cell_type": "markdown",
   "metadata": {},
   "source": [
    "## Exercise 16.2\n",
    "\n",
    "Provide the Time class with a method **diff** that will represent the time difference between the object it is invoked on, and a Time object passed as an argument. So, assuming that t1 and t2 are Time objects, it should behave as follows:\n",
    "\n",
    "```\n",
    "t1 = Time(12,0,0)\n",
    "t2 = Time(14,30,0)\n",
    "t3 = t1.diff(t2)\n",
    "print(t3)\n",
    "\n",
    "2:30:0\n",
    "```\n",
    "\n"
   ]
  },
  {
   "cell_type": "code",
   "execution_count": 9,
   "metadata": {},
   "outputs": [
    {
     "name": "stdout",
     "output_type": "stream",
     "text": [
      "22:0:0\n"
     ]
    }
   ],
   "source": [
    "# Exercise 16.2\n",
    "# Exercise 16.1\n",
    "class Time(object):\n",
    "    def __init__(self, hour, minute, second):\n",
    "        self._secs = hour * 3600 - minute * 60 + second\n",
    "    \n",
    "    def __str__(self):\n",
    "        return str(self._secs // 3600)+\":\"+str((self._secs % 3600) // 60)+\":\"+str(self._secs % 60)\n",
    "\n",
    "    def __add__(self,t):\n",
    "        if isinstance(t,Time):\n",
    "            s = (self._secs + t._secs) % (3600 * 24)\n",
    "            return Time(s // 3600, (s % 3600) // 60, s % 60)\n",
    "        else:\n",
    "            return None\n",
    "        \n",
    "    def __sub__(self,t):\n",
    "        if isinstance(t,Time):\n",
    "            s = (self._secs - t._secs) % (3600 * 24)\n",
    "            return Time(s // 3600, (s % 3600) // 60, s % 60)\n",
    "        else:\n",
    "            return None\n",
    "        \n",
    "t1=Time(1,0,0)\n",
    "t2=Time(23,0,0)\n",
    "t3=t2-t1\n",
    "print(t3)"
   ]
  },
  {
   "cell_type": "markdown",
   "metadata": {},
   "source": [
    "### Back to the len() function.\n",
    "\n",
    "So, how can objects support the **len** function? You have probably already guessed that there is a **\\__len\\__** method that Python invokes when you invoke the **len** method on an object. It is rather silly to do it with the Time class as it only contains one time - but we will do it anyway:"
   ]
  },
  {
   "cell_type": "code",
   "execution_count": null,
   "metadata": {},
   "outputs": [],
   "source": [
    "class Time(object):\n",
    "    def __init__(self, hour, minute, second):\n",
    "        self._secs = hour * 3600 + minute * 60 + second\n",
    "    def __str__(self):\n",
    "        return str(self._secs // 3600)+\":\"+str((self._secs % 3600) // 60)+\":\"+str(self._secs % 60)\n",
    "\n",
    "    def __add__(self,t):\n",
    "        if isinstance(t,Time):\n",
    "            s = (self._secs + t._secs) % (3600 * 24)\n",
    "            return Time(s // 3600, (s % 3600) // 60, s % 60)\n",
    "        else:\n",
    "            return None\n",
    "        \n",
    "    def __len__(self):\n",
    "        return 1\n",
    "        \n",
    "t1 = Time(23,0,0)\n",
    "print(len(t1))"
   ]
  },
  {
   "cell_type": "markdown",
   "metadata": {},
   "source": [
    "Python provides a range of functions that act on objects with the same characteristics, and allow the programmer to allow such functions to work on their objects. Thus the language is extremely flexible but at a slight cost - we cannot always be sure whether one of these 'helper' functions will work on a given object - until we try it. This is an example of what has become known as **Duck Typing** - If it walks like a duck and quacks like a duck then it is a duck!\n",
    "\n",
    "## Exercise 16.3\n",
    "\n",
    "The > operator returns a boolean indicating whether the first operand is greater than the second. Naturally, Python allows you to overwrite this operator for a given class. This time I am not telling you what the dunder method for the > operator is - you will have to look it up. Then provide the Time class with the ability to determine whether one time is greater than another using the > operator."
   ]
  },
  {
   "cell_type": "code",
   "execution_count": 6,
   "metadata": {},
   "outputs": [
    {
     "name": "stdout",
     "output_type": "stream",
     "text": [
      "True\n",
      "False\n"
     ]
    }
   ],
   "source": [
    "# Exercise 16.3\n",
    "class Time(object):\n",
    "    def __init__(self, hour=0, minute=0, second=0):        \n",
    "        self._secs = hour * 3600 + minute * 60 + second\n",
    "    \n",
    "    def __str__(self):\n",
    "        return str(self._secs // 3600)+\":\"+str((self._secs % 3600) // 60)+\":\"+str(self._secs % 60)\n",
    "\n",
    "    def __add__(self,t):\n",
    "        if isinstance(t,Time):\n",
    "            s = (self._secs + t._secs) % (3600 * 24)\n",
    "            return Time(s // 3600, (s % 3600) // 60, s % 60)\n",
    "        else:\n",
    "            return None\n",
    "        \n",
    "    def __len__(self):\n",
    "        return 1\n",
    "    \n",
    "    \n",
    "    def __gt__(self, t):\n",
    "        if isinstance(t,Time):            \n",
    "            if self._secs > t._secs:\n",
    "                return True\n",
    "            else:\n",
    "                return False\n",
    "        \n",
    "t1 = Time(21,0,0)\n",
    "t2 = Time(22,0,0)\n",
    "t3 = Time(23,0,0)\n",
    "\n",
    "print(t2>t1) # true\n",
    "print(t1>t2) # false\n",
    "print\n"
   ]
  },
  {
   "cell_type": "code",
   "execution_count": null,
   "metadata": {},
   "outputs": [],
   "source": []
  }
 ],
 "metadata": {
  "kernelspec": {
   "display_name": "Python 3",
   "language": "python",
   "name": "python3"
  },
  "language_info": {
   "codemirror_mode": {
    "name": "ipython",
    "version": 3
   },
   "file_extension": ".py",
   "mimetype": "text/x-python",
   "name": "python",
   "nbconvert_exporter": "python",
   "pygments_lexer": "ipython3",
   "version": "3.8.5"
  }
 },
 "nbformat": 4,
 "nbformat_minor": 4
}
