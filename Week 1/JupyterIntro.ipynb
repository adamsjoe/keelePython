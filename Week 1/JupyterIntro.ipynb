{
 "cells": [
  {
   "attachments": {
    "image.png": {
     "image/png": "[encoded data removed]"
    }
   },
   "cell_type": "markdown",
   "metadata": {},
   "source": [
    "# Jupyter Notebook Introduction\n",
    "\n",
    "A Jupyter notebook is a document that can contain a mix of executable code, equations, visualizations, and narrative text. Jupyter notebooks allow a programmer to develop and describe a project in a single document. This might include preliminary research, design diagrams, descriptions of data, executable code and presentation of results. This capability has rapidly made Jupyter become an almost standard means of documenting the development of scientific projects involving programs. The same set of qualities also make them ideal for students, whether recording learning activities, developing a portfolio of work or submitting an assignment.\n",
    "\n",
    "Versions of Jupyter are available for Python and other languages that you will encounter on this course. For this reason, we are introducing Jupyter in this first module.\n",
    "\n",
    "## Using Jupyter Notebooks\n",
    "\n",
    "The basic component of a notebook is the **cell**. A notebook comprises one or more cells. Each cell can take one of two main forms: *text* or *code*. Below this text you will see a cell. This text is itself also in a cell. Cells may be selected by clicking within the cell. When selected, they will be highlighted in green or blue. Green indicates that the cell is in EDIT mode and the text or code within it can be modified. Blue indicates that the cell is in COMMAND mode and various commands may be invoked on the cell. Lets practice. The cell below is currently a CODE cell. This is apparent from the presence of an `In [ ]` prefix. Click in the area at the left of the cell. The colour should change to blue indicating that it is in COMMAND mode.\n",
    "\n",
    "![image.png](attachment:image.png)\n",
    "\n",
    "The drop down box at the bottom right of the menu area currently indicates that it is a Code cell. Click on the down-arrow to its right. Now select Markdown. The `In[ ]` prefix vanishes and we now have a text cell, although the correct term is Markdown. Markdown is a language that allows you to format text with some simple formatting tags. Instead of using the menu, we could have used the `m` key to change the cell to markdown. The `y` key changes a cell from markdown to code.\n",
    "\n",
    "In the resources folder for this module you will find the file Jupyter_Notebook_CheatSheet_Edureka.png that contains a concise summary of the commands available within Jupyter. Make sure that you can switch the cell below between code and markdown."
   ]
  },
  {
   "cell_type": "code",
   "execution_count": 2,
   "metadata": {},
   "outputs": [
    {
     "name": "stdout",
     "output_type": "stream",
     "text": [
      "23\n"
     ]
    }
   ],
   "source": [
    "a=23\n",
    "print(a)"
   ]
  },
  {
   "cell_type": "markdown",
   "metadata": {},
   "source": [
    "## Markdown\n",
    "Markdown allows you to format your descriptive text and add tables, diagrams and links. A comprehensive guide can be found at https://www.markdownguide.org/basic-syntax.\n",
    "\n",
    "This cell should provide a quick start though by showing you some of the main formatting tags. Like a Code cell, the text in a markdown cell can be run. Running a markdown cell shows its output format. To return to editing mode double-click within the content. `CTRL` + `Enter` will run the cell. You should now be able to toggle this cell between output (run) and markup (edit).\n",
    "\n",
    "# Heading Level 1\n",
    "#### Heading Level 4\n",
    "**Bold Text**\n",
    "*Italic Text*\n",
    "- List Item 1\n",
    "- List Item 2\n",
    "- List Item 3\n",
    "\n",
    "\n",
    "\n",
    "1. Ordered List Item 1\n",
    "2. Ordered List Item 2\n",
    "3. Ordered List Item 3\n",
    "\n",
    "\n",
    "\n",
    "`monospaced example`\n",
    "\n",
    "\n",
    "\n"
   ]
  },
  {
   "cell_type": "markdown",
   "metadata": {},
   "source": [
    "## Code Cells\n",
    "\n",
    "Code cells have three areas: \n",
    "- the input area, \n",
    "- the display area, and \n",
    "- the output area. \n",
    "\n",
    "The input area is identified by the `In []:` prompt to the left of the cell. Between the brackets of this `In` prompt can be one of three things: \n",
    "- a number, \n",
    "- an asterisk, or \n",
    "- a blank. \n",
    "\n",
    "A number indicates that this cell has been executed and the value of the number indicates the order of execution. For example, normally, having opened a notebook and executed the first cell, the prompt will be `In [1]:`.\n",
    "Before executing a cell, the input prompt number area will be blank, making it clear that that cell has not been executed. An input prompt with a number indicates that the cell has been run sometime but not necessarily in the current session. When a notebook is being presented (ie intended for viewing by others), it is usually desirable to ensure that all outputs are blank by selecting **Cell, All Outputs, Clear** from the menu system.\n",
    "\n",
    "While a cell is executing, including while it is help up by an `input()` pause (explained later), the input prompt will contain an asterisk.\n",
    "\n",
    "The display area of the cell is for text and diagrams generated by the cell during its execution.\n",
    "The output area is reserved for any items that the cell ‘returns’ and which may thus be available to subsequent cells.\n",
    "\n",
    "The Code Cell below contains some trivial code for you to play with. Make sure that you can run the cell and clear its output. Generally, try to get a feel of the Jupyter Notebook system."
   ]
  },
  {
   "cell_type": "code",
   "execution_count": 3,
   "metadata": {},
   "outputs": [
    {
     "name": "stdout",
     "output_type": "stream",
     "text": [
      "Welcome to the Course\n",
      "5*8 = 45\n"
     ]
    }
   ],
   "source": [
    "print('Welcome to the Course')\n",
    "print('5*8 =',5*9)"
   ]
  },
  {
   "cell_type": "markdown",
   "metadata": {},
   "source": [
    "### Incomplete Processing\n",
    "Sometime a code cell will be waiting on some input, or might become stuck in an infinite loop. Under these circumstances, the `In [*]` prompt will display an asterisk. Try the following cell, which waits for some input. The processing cannot complete until the input has been provided (enter something and press <enter>):"
   ]
  },
  {
   "cell_type": "code",
   "execution_count": 1,
   "metadata": {},
   "outputs": [
    {
     "name": "stdout",
     "output_type": "stream",
     "text": [
      "Please enter your name. this\n",
      "Hello this\n"
     ]
    }
   ],
   "source": [
    "my_name = input(\"Please enter your name. \")\n",
    "print (\"Hello \"+my_name)"
   ]
  },
  {
   "cell_type": "markdown",
   "metadata": {},
   "source": [
    "## Finally\n",
    "Add a new Markdown Cell and edit some formatted text. If you have time available, look at the markdown guide mentioned above and experiment with other formatting tags.\n",
    "Add a new Code cell and copy the example from the previous cell into it and ensure that you can run it.\n",
    "\n",
    "You should regularly save your Jupyter Notebooks using a sensible naming convention. Save by selecting Save As or Save and Checkpoint from the File menu."
   ]
  }
 ],
 "metadata": {
  "kernelspec": {
   "display_name": "Python 3",
   "language": "python",
   "name": "python3"
  },
  "language_info": {
   "codemirror_mode": {
    "name": "ipython",
    "version": 3
   },
   "file_extension": ".py",
   "mimetype": "text/x-python",
   "name": "python",
   "nbconvert_exporter": "python",
   "pygments_lexer": "ipython3",
   "version": "3.8.5"
  }
 },
 "nbformat": 4,
 "nbformat_minor": 4
}
