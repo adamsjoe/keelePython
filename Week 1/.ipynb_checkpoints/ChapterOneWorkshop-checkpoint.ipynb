{
 "cells": [
  {
   "cell_type": "markdown",
   "metadata": {},
   "source": [
    "# Chapter One Workshop\n",
    "\n",
    "To follow the exercises in Chapter One as they are presented, you would be using the Python Command Prompt, the use of which is outlined in one of the introductory videos. I want you to get used to using Jupyter Notebooks and therefore we will be examining some of the exercises using Jupyter.\n",
    "\n",
    "As this is the first session, some of the exercise work will be completed for you, so you can get used to using the Jupyter System. Thus far, this text has been presented in Markdown within a **Markdown Cell**. Remember that you can add a new cell with the **menu item** Insert (cell below or above). You can split a cell at the cursor point with **Edit-Split Cell**. You can change a code cell to a markdown cell using **ESC-m** and a markdown cell to a code cell using **ESC-y**. Jupyter and Markdown guides can be found within the Resources folder - but dont spend too much time on them at present. Focus on the basics.\n",
    "\n",
    "## Exercise 1.1\n",
    "\n",
    "1. In a print statement, what happens if you omit one or both parentheses?\n"
   ]
  },
  {
   "cell_type": "code",
   "execution_count": 8,
   "metadata": {},
   "outputs": [
    {
     "ename": "SyntaxError",
     "evalue": "unexpected EOF while parsing (<ipython-input-8-e283fc4124fd>, line 3)",
     "output_type": "error",
     "traceback": [
      "\u001b[1;36m  File \u001b[1;32m\"<ipython-input-8-e283fc4124fd>\"\u001b[1;36m, line \u001b[1;32m3\u001b[0m\n\u001b[1;33m    print(\"Hello World\"\u001b[0m\n\u001b[1;37m                       ^\u001b[0m\n\u001b[1;31mSyntaxError\u001b[0m\u001b[1;31m:\u001b[0m unexpected EOF while parsing\n"
     ]
    }
   ],
   "source": [
    "# Exercise 1.1.1\n",
    "\n",
    "print(\"Hello World\""
   ]
  },
  {
   "cell_type": "markdown",
   "metadata": {},
   "source": [
    "We have a missing paranthesis in the code cell above. To run the cell, click within it to select it and then click on the Run icon in the toolbar below the menu at the top of the page  - or press SHIFT-ENTER. A **Syntax Error** will be reported with some additional information - **unexpected EOF while parsing**. Parsing is the process of turning a program into a form which the Python language can execute. As a **formal** language, Python has strict syntactic rules. An opening bracket must have a corresponding closing bracket AND the arguments required by the **print** function must be enclosed in brackets (parentheses). The EOF stands for 'End Of File'. Python normally accepts a program from a file. It searched to the end of the file (the cell in this case) for a corresponding closing bracket and was unable to find one. Syntax errors can occur in less formal languages as well. Consider \"I an ice cream.\" Here it is slightly more ambiguous. The author could be making some philosophical statement or more probably simply ommitted a verb. Happily, in computing syntactic errors are usually easy for the parser to detect.\n",
    "\n",
    "If you want some help on Jupyter, click on the area to the left of the code (a blue highlight should appear), and press H (for help).\n",
    "\n",
    "2. What happens if you leave out a quotation mark for a string?"
   ]
  },
  {
   "cell_type": "code",
   "execution_count": null,
   "metadata": {},
   "outputs": [],
   "source": [
    "# Exercise 1.1.2\n",
    "print(\"hello World)"
   ]
  },
  {
   "cell_type": "markdown",
   "metadata": {},
   "source": [
    "This time we get an EOL **syntax error**. EOL stands for 'End of Line'. The parser expected to find a closing quotation mark before the end of the line."
   ]
  },
  {
   "cell_type": "markdown",
   "metadata": {},
   "source": [
    "3. What happens if you put a + sign before a number, or two plus signs between two numbers? This is left for you to discover and understand. You can add both code cells and Markdown cells to the notebook to document your discoveries and also to flag things that you do not understand which you can later raise with the tutor and other students. I recommend that you keep one notebook for each chapter of the book as we progress through the module."
   ]
  },
  {
   "cell_type": "code",
   "execution_count": 1,
   "metadata": {},
   "outputs": [
    {
     "name": "stdout",
     "output_type": "stream",
     "text": [
      "3\n"
     ]
    }
   ],
   "source": [
    "# Exercise 1.1.3\n",
    "print(1++2)"
   ]
  },
  {
   "cell_type": "markdown",
   "metadata": {},
   "source": [
    "4. Try adding a code cell with a simple `a = 011` assignment statement. You could put it within a print statement- `print(011)`. What happens?"
   ]
  },
  {
   "cell_type": "code",
   "execution_count": 3,
   "metadata": {},
   "outputs": [
    {
     "ename": "SyntaxError",
     "evalue": "leading zeros in decimal integer literals are not permitted; use an 0o prefix for octal integers (<ipython-input-3-637f4f3a4758>, line 3)",
     "output_type": "error",
     "traceback": [
      "\u001b[1;36m  File \u001b[1;32m\"<ipython-input-3-637f4f3a4758>\"\u001b[1;36m, line \u001b[1;32m3\u001b[0m\n\u001b[1;33m    print(011)\u001b[0m\n\u001b[1;37m            ^\u001b[0m\n\u001b[1;31mSyntaxError\u001b[0m\u001b[1;31m:\u001b[0m leading zeros in decimal integer literals are not permitted; use an 0o prefix for octal integers\n"
     ]
    }
   ],
   "source": [
    "# Exercise 1.1.4\n",
    "# a = 011  # no leading zeros allowed\n",
    "print(011) # same - no leading zeros allowed for int"
   ]
  },
  {
   "cell_type": "markdown",
   "metadata": {},
   "source": [
    "## Exercise 1.2\n",
    "\n",
    "1. How many seconds in 42 minutes and 42 seconds?"
   ]
  },
  {
   "cell_type": "code",
   "execution_count": 11,
   "metadata": {},
   "outputs": [
    {
     "name": "stdout",
     "output_type": "stream",
     "text": [
      "2562\n"
     ]
    }
   ],
   "source": [
    "# Exercise 1.2.1\n",
    "\n",
    "print(42 * 60 + 42)"
   ]
  },
  {
   "cell_type": "markdown",
   "metadata": {},
   "source": [
    "2. How many miles in 10 kilometers (there are 1.61 km in a mile). Left for you to code:"
   ]
  },
  {
   "cell_type": "code",
   "execution_count": 4,
   "metadata": {},
   "outputs": [
    {
     "name": "stdout",
     "output_type": "stream",
     "text": [
      "6.211180124223602\n"
     ]
    }
   ],
   "source": [
    "# Exercise 1.2.2\n",
    "print(10/1.61)"
   ]
  },
  {
   "cell_type": "markdown",
   "metadata": {},
   "source": [
    "3. If you run a 10 kilometer race in 42 minutes 42 seconds, what is your average pace (time per mile in minutes and seconds)? What is your average speed in miles per hour? Again, left for you to try out."
   ]
  },
  {
   "cell_type": "code",
   "execution_count": 15,
   "metadata": {},
   "outputs": [
    {
     "name": "stdout",
     "output_type": "stream",
     "text": [
      "412.482\n",
      "the pace time is  6  and  52.48200000000004\n"
     ]
    }
   ],
   "source": [
    "# Exercise 1.2.3\n",
    "# work out miles first\n",
    "miles = 10/1.61\n",
    "# work out total seconds in 42 min 42 seconds\n",
    "totalSeconds = 42 * 60 + 42\n",
    "\n",
    "# work out the time for a single mile (in seconds here)\n",
    "singleMileTimeSeconds = totalSeconds / miles\n",
    "\n",
    "print(singleMileTimeSeconds)\n",
    "# now take that value in seconds and divide by 60 to get the mins\n",
    "mins = singleMileTimeSeconds / 60 \n",
    "secs = (mins - 6) * 60\n",
    "\n",
    "# this is bad - much better to split this - but we haven't covered that yet\n",
    "print(\"the pace time is \", int(mins), \" and \", secs)\n"
   ]
  },
  {
   "cell_type": "markdown",
   "metadata": {},
   "source": [
    "## Exercise 1.3\n",
    "\n",
    "To convert a fahrenheit temperature to centigrade, we subtract 32, divide by 9 and multiply by 5. Write a print statement that converts 212 degrees fahrenheit to centigrade. Hopefully, you will know that the result should be 100. If you get it wrong first time, a little bit of trial and error should therefore get you to the correct result!"
   ]
  },
  {
   "cell_type": "code",
   "execution_count": 19,
   "metadata": {},
   "outputs": [
    {
     "name": "stdout",
     "output_type": "stream",
     "text": [
      "212 Fahrenheit is  100.0 Centigrade\n"
     ]
    }
   ],
   "source": [
    "# Exercise 1.3  Fahrenheit to Centigrade\n",
    "cent = ((212 -32) / 9) * 5\n",
    "print(\"212 Fahrenheit is \", cent, \"Centigrade\")"
   ]
  },
  {
   "cell_type": "markdown",
   "metadata": {},
   "source": [
    "## Exercise 1.4\n",
    "\n",
    "Run the following code cell:"
   ]
  },
  {
   "cell_type": "code",
   "execution_count": 20,
   "metadata": {},
   "outputs": [],
   "source": [
    "count = 999"
   ]
  },
  {
   "cell_type": "markdown",
   "metadata": {},
   "source": [
    "And now run the next code cell:"
   ]
  },
  {
   "cell_type": "code",
   "execution_count": 21,
   "metadata": {},
   "outputs": [
    {
     "name": "stdout",
     "output_type": "stream",
     "text": [
      "999\n"
     ]
    }
   ],
   "source": [
    "print(count)\n"
   ]
  },
  {
   "cell_type": "markdown",
   "metadata": {},
   "source": [
    "The value of *count* has been 'remembered' between the execution of cells. Now select 'Kernel restart' from the 'Kernel' menu and execute the following cell:"
   ]
  },
  {
   "cell_type": "code",
   "execution_count": 1,
   "metadata": {},
   "outputs": [
    {
     "ename": "NameError",
     "evalue": "name 'count' is not defined",
     "output_type": "error",
     "traceback": [
      "\u001b[1;31m---------------------------------------------------------------------------\u001b[0m",
      "\u001b[1;31mNameError\u001b[0m                                 Traceback (most recent call last)",
      "\u001b[1;32m<ipython-input-1-5a656e0c39f7>\u001b[0m in \u001b[0;36m<module>\u001b[1;34m\u001b[0m\n\u001b[0;32m      1\u001b[0m \u001b[1;31m# Exercise 1.4\u001b[0m\u001b[1;33m\u001b[0m\u001b[1;33m\u001b[0m\u001b[1;33m\u001b[0m\u001b[0m\n\u001b[0;32m      2\u001b[0m \u001b[1;33m\u001b[0m\u001b[0m\n\u001b[1;32m----> 3\u001b[1;33m \u001b[0mprint\u001b[0m\u001b[1;33m(\u001b[0m\u001b[0mcount\u001b[0m\u001b[1;33m)\u001b[0m\u001b[1;33m\u001b[0m\u001b[1;33m\u001b[0m\u001b[0m\n\u001b[0m",
      "\u001b[1;31mNameError\u001b[0m: name 'count' is not defined"
     ]
    }
   ],
   "source": [
    "# Exercise 1.4\n",
    "\n",
    "print(count)"
   ]
  },
  {
   "cell_type": "markdown",
   "metadata": {},
   "source": [
    "You will see the error message **Name Error: name 'count' is not defined**. Whilst the Python kernel (A single runtime environment) associated with a notebook is running, all names and associated values are remembered (although they may be overwritten). When you restart the kernel, these names/variables are forgotten."
   ]
  },
  {
   "cell_type": "markdown",
   "metadata": {},
   "source": [
    "## Summary\n",
    "\n",
    "This format will be followed for subsequent Chapters of the Downey book. Some exercises from the Downey book will be used, but increasingly you will find both different exercises and new material covered in these workshops. Please do not be tempted to look for solutions online. There are more bad solutions than good ones out there and it will just impede your learning. Solutions to all exercises will be presented in the week following the readings. You are free to discuss and share your solutions to exercises with other students using the weekly programming forums, but please try them yourselves before consulting others. "
   ]
  }
 ],
 "metadata": {
  "kernelspec": {
   "display_name": "Python 3",
   "language": "python",
   "name": "python3"
  },
  "language_info": {
   "codemirror_mode": {
    "name": "ipython",
    "version": 3
   },
   "file_extension": ".py",
   "mimetype": "text/x-python",
   "name": "python",
   "nbconvert_exporter": "python",
   "pygments_lexer": "ipython3",
   "version": "3.8.5"
  }
 },
 "nbformat": 4,
 "nbformat_minor": 4
}
