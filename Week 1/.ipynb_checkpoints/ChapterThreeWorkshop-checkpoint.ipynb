{
 "cells": [
  {
   "cell_type": "markdown",
   "metadata": {},
   "source": [
    "# Chapter Three Workshop\n",
    "\n",
    "## Exercise 3.1\n",
    "\n",
    "Write a function named **right_justify** that takes a string named **s** as a parameter and prints the string with enough leading spaces so that the last letter of the string is in column 70 of the display.\n",
    "\n",
    "You might call (invoke) the function with `right_justify('monty')`\n",
    "\n",
    "You will need to use string **concatenation** and **repetition**. Also, you should be aware that Python provides a built-in function called `len()` that returns the length of a string, so the value of `len('monty')` is 5."
   ]
  },
  {
   "cell_type": "code",
   "execution_count": null,
   "metadata": {},
   "outputs": [],
   "source": [
    "# Exercise 3.1\n"
   ]
  },
  {
   "cell_type": "markdown",
   "metadata": {},
   "source": [
    "## Exercise 3.2.\n",
    "\n",
    "### Preamble\n",
    "\n",
    "When you declare a function with **def** you are creating a function object with the name that you provide for the function. So, for example:\n",
    "\n",
    "```\n",
    "def show(s):\n",
    "    print(s)\n",
    "```\n",
    "creates a function called **show**. To call the function we would use its name, add brackets and any required arguments inside the brackets:\n",
    "\n",
    "```\n",
    "def show(s):\n",
    "    print(s)\n",
    "show(\"Good Morning\")\n",
    "```\n",
    "A function can be passed another function in the following manner:\n",
    "```\n",
    "def doit(f,s):\n",
    "    f(s)\n",
    "    \n",
    "def show(s):\n",
    "    print(s)\n",
    "\n",
    "doit(show,\"Good Night\")\n",
    "\n",
    "```\n",
    "\n",
    "In other words, a function can have a function as a parameter. In the example, the function **doit** is being passed the name of a function (**f**) and a string (**s**). **doit** then calls function **f** which is in fact the function **show** with the argument **s**. This can be difficult to understand at first. Play around with the following cell and ensure that you understand it before you proceed to the next exercise:"
   ]
  },
  {
   "cell_type": "code",
   "execution_count": null,
   "metadata": {},
   "outputs": [],
   "source": [
    "def doit(f,s):\n",
    "    f(s)\n",
    "    \n",
    "def show(s):\n",
    "    print(s)\n",
    "\n",
    "doit(show,\"Good Night\")"
   ]
  },
  {
   "cell_type": "markdown",
   "metadata": {},
   "source": [
    "---\n",
    "### Now to the exercise:\n",
    "A function object is a value you can assign to a variable or pass as an argument. For example,**do_twice** is a function that takes a function object as an argument and calls it twice: \n",
    "\n",
    "```\n",
    "def do_twice(f): \n",
    "    f() \n",
    "    f()\n",
    "```\n",
    "    \n",
    "Here’s an example that uses `do_twice` to call a function named `print_spam` twice. \n",
    "```\n",
    "def print_spam(): \n",
    "     print('spam')\n",
    "do_twice(print_spam)\n",
    "```\n",
    "     \n",
    "1. Type this example into a script and test it. "
   ]
  },
  {
   "cell_type": "code",
   "execution_count": 4,
   "metadata": {},
   "outputs": [
    {
     "name": "stdout",
     "output_type": "stream",
     "text": [
      "<function print_spam at 0x000002AB3AA005E0>\n",
      "<function print_spam at 0x000002AB3AA005E0>\n"
     ]
    }
   ],
   "source": [
    "# Exercise 3.2.1\n",
    "def print_spam(): \n",
    "     print('spam')\n",
    "do_twice(print_spam)"
   ]
  },
  {
   "cell_type": "markdown",
   "metadata": {},
   "source": [
    "2. Modify `do_twice` so that it takes two arguments, a function object and a value, and calls the function twice, passing the value as an argument. Demonstrate its use."
   ]
  },
  {
   "cell_type": "code",
   "execution_count": 5,
   "metadata": {},
   "outputs": [
    {
     "name": "stdout",
     "output_type": "stream",
     "text": [
      "hi\n"
     ]
    }
   ],
   "source": [
    "# Exercise 3.2.2\n",
    "def print_spam(): \n",
    "     print('spam')\n",
    "        \n",
    "        \n",
    "def do_twice(func, text):\n",
    "    func(text)\n",
    "    \n",
    "do_twice(print, \"hi\")"
   ]
  },
  {
   "cell_type": "markdown",
   "metadata": {},
   "source": [
    "3. Write a function `print_twice` that prints a string argument twice (on seperate lines). "
   ]
  },
  {
   "cell_type": "code",
   "execution_count": 6,
   "metadata": {},
   "outputs": [
    {
     "name": "stdout",
     "output_type": "stream",
     "text": [
      "Howdy\n",
      "Howdy\n"
     ]
    }
   ],
   "source": [
    "# Exercise 3.2.3\n",
    "def do_twice(text):\n",
    "    print(text)\n",
    "    print(text)    \n",
    "    \n",
    "do_twice(\"Howdy\")"
   ]
  },
  {
   "cell_type": "markdown",
   "metadata": {},
   "source": [
    "4. Use the modiﬁed version of `do_twice` to call `print_twice` twice, passing 'spam' as an argument. "
   ]
  },
  {
   "cell_type": "code",
   "execution_count": 8,
   "metadata": {},
   "outputs": [
    {
     "name": "stdout",
     "output_type": "stream",
     "text": [
      "spam\n",
      "spam\n"
     ]
    }
   ],
   "source": [
    "# Exercise 3.2.4\n",
    "def do_twice(func, text):\n",
    "    func(text)\n",
    "    func(text)\n",
    "    \n",
    "do_twice(print, \"spam\")"
   ]
  },
  {
   "cell_type": "markdown",
   "metadata": {},
   "source": [
    "5. Deﬁne a new function called `do_four` that takes a function object and a value and calls the function four times, passing the value as a parameter. There should be only two statements in the body of this function, not four."
   ]
  },
  {
   "cell_type": "code",
   "execution_count": 10,
   "metadata": {},
   "outputs": [
    {
     "name": "stdout",
     "output_type": "stream",
     "text": [
      "Hi\n",
      "Hi\n",
      "Hi\n",
      "Hi\n"
     ]
    }
   ],
   "source": [
    "# Exercise 3.2.5\n",
    "def do_twice(func, text):\n",
    "    func(text)\n",
    "    func(text)\n",
    "    \n",
    "def do_four(func, text):\n",
    "    do_twice(func, text)\n",
    "    do_twice(func, text)    \n",
    "    \n",
    "do_four(print, \"Hi\")"
   ]
  },
  {
   "cell_type": "markdown",
   "metadata": {},
   "source": [
    "## Exercise 3.3.\n",
    "\n",
    "Note: This exercise should be done using only the statements and other features we have learned so far.\n",
    "\n",
    "1. Write a function that draws a grid like the following:\n",
    "\n",
    "```\n",
    "+----+----+ \n",
    "|    |    | \n",
    "|    |    | \n",
    "|    |    | \n",
    "|    |    | \n",
    "+----+----+ \n",
    "|    |    | \n",
    "|    |    | \n",
    "|    |    | \n",
    "|    |    | \n",
    "+----+----+ \n",
    "```\n",
    "Hint: to print more than one value on a line, you can print a comma-separated sequence of values:\n",
    "print('+', '-') By default, print advances to the next line, but you can override that behavior and put a space at the end, like this:\n",
    "\n",
    "```\n",
    "print('+', end=' ') \n",
    "print('-')\n",
    "```\n",
    "\n",
    "The output of these statements is '+ -' on the same line. The output from the next print statement would begin on the next line. "
   ]
  },
  {
   "cell_type": "code",
   "execution_count": null,
   "metadata": {},
   "outputs": [],
   "source": [
    "# Exercise 3.3.1"
   ]
  },
  {
   "cell_type": "markdown",
   "metadata": {},
   "source": [
    "2. Write a function that draws a similar grid with four rows and four columns."
   ]
  },
  {
   "cell_type": "code",
   "execution_count": null,
   "metadata": {},
   "outputs": [],
   "source": [
    "# Exercise 3.3.2\n"
   ]
  },
  {
   "cell_type": "markdown",
   "metadata": {},
   "source": [
    "## Exercise 3.4\n",
    "\n",
    "In meteorology, the Wind Chill Factor is an indication of how cold we feel not just because of the atmospheric temperature but also taking into account the speed of the wind. It combines both these factors in form of an equation and gives us a measurement of how cold it actually feels when the wind blows at a higher speed even without any change in temperature.\n",
    "\n",
    "Below is the equation for calculating the Wind Chill Factor.\n",
    "\n",
    "Twc = $13.12 + 0.6215 * T - 11.37 * v^{0.16} + 0.3965 * T * v^{0.16}$\n",
    "\n",
    "Where Twc is the wind chill factor in Celsius\n",
    "T is the air temperature in degrees Celsius, and \n",
    "v is the wind speed at 10 m (33 ft) standard anemometer height, in kilometres per hour.\n",
    "\n",
    "Note that the calculation is only considered valid for temperatures less than or equal to 10 degrees Celsius and wind speeds exceeding 4.8 kilometers per hour. The users of the function (programmers) should be made aware of this fact. \n",
    "\n",
    "Write a function to calculate the Windchill Factor for a passed temperature and wind speed.\n",
    "Test the function with a temperature of 5 °C and wind speed of 20 miles per hour.\n",
    "\n"
   ]
  },
  {
   "cell_type": "code",
   "execution_count": 11,
   "metadata": {},
   "outputs": [
    {
     "name": "stdout",
     "output_type": "stream",
     "text": [
      "The wind chill factor is  -0.1317623207702483  Celsius\n",
      "The wind chill factor is  -0.13  Celsius\n"
     ]
    }
   ],
   "source": [
    "# Exercise 3.4\n",
    "def calc_wind_chill(temp, windSpeed):\n",
    "    # check error conditions first\n",
    "    # calc is only valid if temperature is less than 10 degrees\n",
    "    if (temp > 10):\n",
    "        print(\"ERROR: Ensure that temperature is less than or equal to 10 Celsius\")\n",
    "        exit()\n",
    "    # cal is only valid if wind speed is above 4.8\n",
    "    if (windSpeed < 4.8):\n",
    "        print(\"ERROR: Ensure that wind speed greater than 4.8 km/h\")\n",
    "        exit()\n",
    "    \n",
    "    # formula for windchill \n",
    "    v = windSpeed**0.16\n",
    "\n",
    "    chillFactor = 13.12 + 0.6215 * temp - 11.37 * v + 0.3965 * temp * v\n",
    "    return chillFactor\n",
    "\n",
    "def convertToKMH(mphSpeed):\n",
    "    return mphSpeed * 1.609\n",
    "\n",
    "# test values\n",
    "temperature = 5\n",
    "windSpeed = convertToKMH(20) \n",
    "\n",
    "# call the fuction to calculate wind chill\n",
    "wind_chill = calc_wind_chill(temperature, windSpeed)\n",
    "\n",
    "# print a string out\n",
    "print(\"The wind chill factor is \", wind_chill, \" Celsius\")\n",
    "\n",
    "# print a pretty string out\n",
    "print(\"The wind chill factor is \", round(wind_chill, 2), \" Celsius\")\n"
   ]
  },
  {
   "cell_type": "code",
   "execution_count": null,
   "metadata": {},
   "outputs": [],
   "source": []
  }
 ],
 "metadata": {
  "kernelspec": {
   "display_name": "Python 3",
   "language": "python",
   "name": "python3"
  },
  "language_info": {
   "codemirror_mode": {
    "name": "ipython",
    "version": 3
   },
   "file_extension": ".py",
   "mimetype": "text/x-python",
   "name": "python",
   "nbconvert_exporter": "python",
   "pygments_lexer": "ipython3",
   "version": "3.8.5"
  }
 },
 "nbformat": 4,
 "nbformat_minor": 4
}
